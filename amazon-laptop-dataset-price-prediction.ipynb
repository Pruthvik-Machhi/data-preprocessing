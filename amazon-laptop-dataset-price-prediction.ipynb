{
 "cells": [
  {
   "cell_type": "markdown",
   "id": "4bdea5ac",
   "metadata": {
    "papermill": {
     "duration": 0.014882,
     "end_time": "2024-07-04T11:51:18.331009",
     "exception": false,
     "start_time": "2024-07-04T11:51:18.316127",
     "status": "completed"
    },
    "tags": []
   },
   "source": [
    ">\r\n"
   ]
  },
  {
   "cell_type": "markdown",
   "id": "c527d149",
   "metadata": {
    "papermill": {
     "duration": 0.013853,
     "end_time": "2024-07-04T11:51:18.359652",
     "exception": false,
     "start_time": "2024-07-04T11:51:18.345799",
     "status": "completed"
    },
    "tags": []
   },
   "source": [
    "<div style=\"background-color: #ff0000; padding: 20px; border-radius: 10px;\">\n",
    "    <h1 style=\"text-align: left; font-size: 32px;\">  Laptop Price Prediction </h1>\n",
    "</div>\n"
   ]
  },
  {
   "cell_type": "code",
   "execution_count": 1,
   "id": "0afff978",
   "metadata": {
    "execution": {
     "iopub.execute_input": "2024-07-04T11:51:18.390760Z",
     "iopub.status.busy": "2024-07-04T11:51:18.390382Z",
     "iopub.status.idle": "2024-07-04T11:51:19.334806Z",
     "shell.execute_reply": "2024-07-04T11:51:19.333412Z"
    },
    "papermill": {
     "duration": 0.962225,
     "end_time": "2024-07-04T11:51:19.337206",
     "exception": false,
     "start_time": "2024-07-04T11:51:18.374981",
     "status": "completed"
    },
    "tags": []
   },
   "outputs": [
    {
     "name": "stdout",
     "output_type": "stream",
     "text": [
      "/kaggle/input/amazon-laptop-data-explore-analyze-predict/Amazon Laptop Data.csv\n"
     ]
    }
   ],
   "source": [
    "# This Python 3 environment comes with many helpful analytics libraries installed\n",
    "# It is defined by the kaggle/python Docker image: https://github.com/kaggle/docker-python\n",
    "# For example, here's several helpful packages to load\n",
    "\n",
    "import numpy as np # linear algebra\n",
    "import pandas as pd # data processing, CSV file I/O (e.g. pd.read_csv)\n",
    "\n",
    "# Input data files are available in the read-only \"../input/\" directory\n",
    "# For example, running this (by clicking run or pressing Shift+Enter) will list all files under the input directory\n",
    "\n",
    "import os\n",
    "for dirname, _, filenames in os.walk('/kaggle/input'):\n",
    "    for filename in filenames:\n",
    "        print(os.path.join(dirname, filename))\n",
    "\n",
    "# You can write up to 20GB to the current directory (/kaggle/working/) that gets preserved as output when you create a version using \"Save & Run All\" \n",
    "# You can also write temporary files to /kaggle/temp/, but they won't be saved outside of the current session"
   ]
  },
  {
   "cell_type": "markdown",
   "id": "f64ec14f",
   "metadata": {
    "papermill": {
     "duration": 0.013977,
     "end_time": "2024-07-04T11:51:19.365573",
     "exception": false,
     "start_time": "2024-07-04T11:51:19.351596",
     "status": "completed"
    },
    "tags": []
   },
   "source": [
    "<p style=\"font-family:newtimeroman; font-size:200%; text-align:center; color:#00008B;\">Library import</p>\n",
    "\n"
   ]
  },
  {
   "cell_type": "code",
   "execution_count": 2,
   "id": "f5d9d055",
   "metadata": {
    "execution": {
     "iopub.execute_input": "2024-07-04T11:51:19.396346Z",
     "iopub.status.busy": "2024-07-04T11:51:19.395783Z",
     "iopub.status.idle": "2024-07-04T11:51:21.281206Z",
     "shell.execute_reply": "2024-07-04T11:51:21.279932Z"
    },
    "papermill": {
     "duration": 1.904084,
     "end_time": "2024-07-04T11:51:21.284161",
     "exception": false,
     "start_time": "2024-07-04T11:51:19.380077",
     "status": "completed"
    },
    "tags": []
   },
   "outputs": [],
   "source": [
    "import pandas as pd\n",
    "import seaborn as sns\n",
    "from sklearn.model_selection import train_test_split\n",
    "from sklearn.neighbors import KNeighborsRegressor\n",
    "from sklearn.metrics import mean_squared_error, r2_score\n",
    "import matplotlib.pyplot as plt\n",
    "import warnings\n",
    "warnings.filterwarnings('ignore')"
   ]
  },
  {
   "cell_type": "markdown",
   "id": "1a2711b8",
   "metadata": {
    "papermill": {
     "duration": 0.014725,
     "end_time": "2024-07-04T11:51:21.313676",
     "exception": false,
     "start_time": "2024-07-04T11:51:21.298951",
     "status": "completed"
    },
    "tags": []
   },
   "source": [
    "<p style=\"font-family:newtimeroman; font-size:200%; text-align:center; color:#00008B;\">Load Data</p>\n"
   ]
  },
  {
   "cell_type": "code",
   "execution_count": 3,
   "id": "488eb527",
   "metadata": {
    "execution": {
     "iopub.execute_input": "2024-07-04T11:51:21.344065Z",
     "iopub.status.busy": "2024-07-04T11:51:21.343635Z",
     "iopub.status.idle": "2024-07-04T11:51:21.420419Z",
     "shell.execute_reply": "2024-07-04T11:51:21.419289Z"
    },
    "papermill": {
     "duration": 0.094844,
     "end_time": "2024-07-04T11:51:21.422899",
     "exception": false,
     "start_time": "2024-07-04T11:51:21.328055",
     "status": "completed"
    },
    "tags": []
   },
   "outputs": [
    {
     "data": {
      "text/html": [
       "<div>\n",
       "<style scoped>\n",
       "    .dataframe tbody tr th:only-of-type {\n",
       "        vertical-align: middle;\n",
       "    }\n",
       "\n",
       "    .dataframe tbody tr th {\n",
       "        vertical-align: top;\n",
       "    }\n",
       "\n",
       "    .dataframe thead th {\n",
       "        text-align: right;\n",
       "    }\n",
       "</style>\n",
       "<table border=\"1\" class=\"dataframe\">\n",
       "  <thead>\n",
       "    <tr style=\"text-align: right;\">\n",
       "      <th></th>\n",
       "      <th>Product Name</th>\n",
       "      <th>Original Price (in Rs.)</th>\n",
       "      <th>Discount Percentage</th>\n",
       "      <th>Final Price (in Rs.)</th>\n",
       "      <th>Ratings</th>\n",
       "      <th>Total Ratings count</th>\n",
       "    </tr>\n",
       "  </thead>\n",
       "  <tbody>\n",
       "    <tr>\n",
       "      <th>0</th>\n",
       "      <td>Dell 14 Laptop</td>\n",
       "      <td>57,778</td>\n",
       "      <td>39%</td>\n",
       "      <td>34,990</td>\n",
       "      <td>3.8</td>\n",
       "      <td>499</td>\n",
       "    </tr>\n",
       "    <tr>\n",
       "      <th>1</th>\n",
       "      <td>Dell 15 Laptop</td>\n",
       "      <td>51,254</td>\n",
       "      <td>22%</td>\n",
       "      <td>39,990</td>\n",
       "      <td>4.3</td>\n",
       "      <td>19</td>\n",
       "    </tr>\n",
       "    <tr>\n",
       "      <th>2</th>\n",
       "      <td>Dell Inspiron 3530 Laptop</td>\n",
       "      <td>87,262</td>\n",
       "      <td>30%</td>\n",
       "      <td>60,990</td>\n",
       "      <td>3.7</td>\n",
       "      <td>68</td>\n",
       "    </tr>\n",
       "    <tr>\n",
       "      <th>3</th>\n",
       "      <td>HP Laptop 15s</td>\n",
       "      <td>56,261</td>\n",
       "      <td>33%</td>\n",
       "      <td>37,699</td>\n",
       "      <td>4</td>\n",
       "      <td>755</td>\n",
       "    </tr>\n",
       "    <tr>\n",
       "      <th>4</th>\n",
       "      <td>Lenovo V15 Intel Celeron N4500 15.6\" (39.62 cm...</td>\n",
       "      <td>42,032</td>\n",
       "      <td>52%</td>\n",
       "      <td>19,990</td>\n",
       "      <td>3.8</td>\n",
       "      <td>255</td>\n",
       "    </tr>\n",
       "  </tbody>\n",
       "</table>\n",
       "</div>"
      ],
      "text/plain": [
       "                                        Product Name Original Price (in Rs.)  \\\n",
       "0                                     Dell 14 Laptop                  57,778   \n",
       "1                                     Dell 15 Laptop                  51,254   \n",
       "2                          Dell Inspiron 3530 Laptop                  87,262   \n",
       "3                                      HP Laptop 15s                  56,261   \n",
       "4  Lenovo V15 Intel Celeron N4500 15.6\" (39.62 cm...                  42,032   \n",
       "\n",
       "  Discount Percentage Final Price (in Rs.) Ratings Total Ratings count  \n",
       "0                 39%               34,990     3.8                 499  \n",
       "1                 22%               39,990     4.3                  19  \n",
       "2                 30%               60,990     3.7                  68  \n",
       "3                 33%               37,699       4                 755  \n",
       "4                 52%               19,990     3.8                 255  "
      ]
     },
     "execution_count": 3,
     "metadata": {},
     "output_type": "execute_result"
    }
   ],
   "source": [
    "df = pd.read_csv('/kaggle/input/amazon-laptop-data-explore-analyze-predict/Amazon Laptop Data.csv', encoding='latin-1')\n",
    "df.head()"
   ]
  },
  {
   "cell_type": "code",
   "execution_count": 4,
   "id": "41199886",
   "metadata": {
    "execution": {
     "iopub.execute_input": "2024-07-04T11:51:21.454908Z",
     "iopub.status.busy": "2024-07-04T11:51:21.453714Z",
     "iopub.status.idle": "2024-07-04T11:51:21.479875Z",
     "shell.execute_reply": "2024-07-04T11:51:21.478755Z"
    },
    "papermill": {
     "duration": 0.044966,
     "end_time": "2024-07-04T11:51:21.482663",
     "exception": false,
     "start_time": "2024-07-04T11:51:21.437697",
     "status": "completed"
    },
    "tags": []
   },
   "outputs": [
    {
     "name": "stdout",
     "output_type": "stream",
     "text": [
      "<class 'pandas.core.frame.DataFrame'>\n",
      "RangeIndex: 7462 entries, 0 to 7461\n",
      "Data columns (total 6 columns):\n",
      " #   Column                   Non-Null Count  Dtype \n",
      "---  ------                   --------------  ----- \n",
      " 0   Product Name             7462 non-null   object\n",
      " 1   Original Price (in Rs.)  7462 non-null   object\n",
      " 2   Discount Percentage      7455 non-null   object\n",
      " 3   Final Price (in Rs.)     7462 non-null   object\n",
      " 4   Ratings                  7462 non-null   object\n",
      " 5   Total Ratings count      7462 non-null   object\n",
      "dtypes: object(6)\n",
      "memory usage: 349.9+ KB\n"
     ]
    }
   ],
   "source": [
    "df.info()"
   ]
  },
  {
   "cell_type": "markdown",
   "id": "8bda1978",
   "metadata": {
    "papermill": {
     "duration": 0.015139,
     "end_time": "2024-07-04T11:51:21.512801",
     "exception": false,
     "start_time": "2024-07-04T11:51:21.497662",
     "status": "completed"
    },
    "tags": []
   },
   "source": [
    "<p style=\"font-family:newtimeroman; font-size:200%; text-align:center; color:#00008B;\">Handling missing Data</p>"
   ]
  },
  {
   "cell_type": "code",
   "execution_count": 5,
   "id": "08a0690d",
   "metadata": {
    "execution": {
     "iopub.execute_input": "2024-07-04T11:51:21.545724Z",
     "iopub.status.busy": "2024-07-04T11:51:21.545311Z",
     "iopub.status.idle": "2024-07-04T11:51:21.557205Z",
     "shell.execute_reply": "2024-07-04T11:51:21.555794Z"
    },
    "papermill": {
     "duration": 0.030885,
     "end_time": "2024-07-04T11:51:21.559798",
     "exception": false,
     "start_time": "2024-07-04T11:51:21.528913",
     "status": "completed"
    },
    "tags": []
   },
   "outputs": [
    {
     "data": {
      "text/plain": [
       "Product Name               0\n",
       "Original Price (in Rs.)    0\n",
       "Discount Percentage        7\n",
       "Final Price (in Rs.)       0\n",
       "Ratings                    0\n",
       "Total Ratings count        0\n",
       "dtype: int64"
      ]
     },
     "execution_count": 5,
     "metadata": {},
     "output_type": "execute_result"
    }
   ],
   "source": [
    "df.isnull().sum()"
   ]
  },
  {
   "cell_type": "markdown",
   "id": "ec2c02d3",
   "metadata": {
    "papermill": {
     "duration": 0.016433,
     "end_time": "2024-07-04T11:51:21.591184",
     "exception": false,
     "start_time": "2024-07-04T11:51:21.574751",
     "status": "completed"
    },
    "tags": []
   },
   "source": [
    "Drop the missing data of size"
   ]
  },
  {
   "cell_type": "code",
   "execution_count": 6,
   "id": "f16af1d1",
   "metadata": {
    "execution": {
     "iopub.execute_input": "2024-07-04T11:51:21.623393Z",
     "iopub.status.busy": "2024-07-04T11:51:21.622960Z",
     "iopub.status.idle": "2024-07-04T11:51:21.635646Z",
     "shell.execute_reply": "2024-07-04T11:51:21.634504Z"
    },
    "papermill": {
     "duration": 0.032097,
     "end_time": "2024-07-04T11:51:21.638197",
     "exception": false,
     "start_time": "2024-07-04T11:51:21.606100",
     "status": "completed"
    },
    "tags": []
   },
   "outputs": [],
   "source": [
    "\n",
    "df.dropna(inplace=True)"
   ]
  },
  {
   "cell_type": "code",
   "execution_count": 7,
   "id": "6324b638",
   "metadata": {
    "execution": {
     "iopub.execute_input": "2024-07-04T11:51:21.669673Z",
     "iopub.status.busy": "2024-07-04T11:51:21.669256Z",
     "iopub.status.idle": "2024-07-04T11:51:21.680241Z",
     "shell.execute_reply": "2024-07-04T11:51:21.679203Z"
    },
    "papermill": {
     "duration": 0.029111,
     "end_time": "2024-07-04T11:51:21.682418",
     "exception": false,
     "start_time": "2024-07-04T11:51:21.653307",
     "status": "completed"
    },
    "tags": []
   },
   "outputs": [
    {
     "data": {
      "text/plain": [
       "Product Name               0\n",
       "Original Price (in Rs.)    0\n",
       "Discount Percentage        0\n",
       "Final Price (in Rs.)       0\n",
       "Ratings                    0\n",
       "Total Ratings count        0\n",
       "dtype: int64"
      ]
     },
     "execution_count": 7,
     "metadata": {},
     "output_type": "execute_result"
    }
   ],
   "source": [
    "df.isnull().sum()"
   ]
  },
  {
   "cell_type": "code",
   "execution_count": 8,
   "id": "56332072",
   "metadata": {
    "execution": {
     "iopub.execute_input": "2024-07-04T11:51:21.713956Z",
     "iopub.status.busy": "2024-07-04T11:51:21.713552Z",
     "iopub.status.idle": "2024-07-04T11:51:21.720349Z",
     "shell.execute_reply": "2024-07-04T11:51:21.719277Z"
    },
    "papermill": {
     "duration": 0.025001,
     "end_time": "2024-07-04T11:51:21.722431",
     "exception": false,
     "start_time": "2024-07-04T11:51:21.697430",
     "status": "completed"
    },
    "tags": []
   },
   "outputs": [
    {
     "data": {
      "text/plain": [
       "(7455, 6)"
      ]
     },
     "execution_count": 8,
     "metadata": {},
     "output_type": "execute_result"
    }
   ],
   "source": [
    "df.shape"
   ]
  },
  {
   "cell_type": "markdown",
   "id": "6aeb8d19",
   "metadata": {
    "papermill": {
     "duration": 0.014847,
     "end_time": "2024-07-04T11:51:21.752292",
     "exception": false,
     "start_time": "2024-07-04T11:51:21.737445",
     "status": "completed"
    },
    "tags": []
   },
   "source": [
    "<p style=\"font-family:newtimeroman; font-size:200%; text-align:center; color:#00008B;\">statastical summary</p>\n"
   ]
  },
  {
   "cell_type": "code",
   "execution_count": 9,
   "id": "01e9bb4f",
   "metadata": {
    "execution": {
     "iopub.execute_input": "2024-07-04T11:51:21.784894Z",
     "iopub.status.busy": "2024-07-04T11:51:21.784527Z",
     "iopub.status.idle": "2024-07-04T11:51:21.899449Z",
     "shell.execute_reply": "2024-07-04T11:51:21.898292Z"
    },
    "papermill": {
     "duration": 0.13403,
     "end_time": "2024-07-04T11:51:21.901906",
     "exception": false,
     "start_time": "2024-07-04T11:51:21.767876",
     "status": "completed"
    },
    "tags": []
   },
   "outputs": [
    {
     "data": {
      "text/html": [
       "<style type=\"text/css\">\n",
       "</style>\n",
       "<table id=\"T_36f9d\">\n",
       "  <thead>\n",
       "    <tr>\n",
       "      <th class=\"blank level0\" >&nbsp;</th>\n",
       "      <th id=\"T_36f9d_level0_col0\" class=\"col_heading level0 col0\" >count</th>\n",
       "      <th id=\"T_36f9d_level0_col1\" class=\"col_heading level0 col1\" >unique</th>\n",
       "      <th id=\"T_36f9d_level0_col2\" class=\"col_heading level0 col2\" >top</th>\n",
       "      <th id=\"T_36f9d_level0_col3\" class=\"col_heading level0 col3\" >freq</th>\n",
       "    </tr>\n",
       "  </thead>\n",
       "  <tbody>\n",
       "    <tr>\n",
       "      <th id=\"T_36f9d_level0_row0\" class=\"row_heading level0 row0\" >Product Name</th>\n",
       "      <td id=\"T_36f9d_row0_col0\" class=\"data row0 col0\" >7455</td>\n",
       "      <td id=\"T_36f9d_row0_col1\" class=\"data row0 col1\" >2858</td>\n",
       "      <td id=\"T_36f9d_row0_col2\" class=\"data row0 col2\" >Dell 15 Laptop</td>\n",
       "      <td id=\"T_36f9d_row0_col3\" class=\"data row0 col3\" >325</td>\n",
       "    </tr>\n",
       "    <tr>\n",
       "      <th id=\"T_36f9d_level0_row1\" class=\"row_heading level0 row1\" >Original Price (in Rs.)</th>\n",
       "      <td id=\"T_36f9d_row1_col0\" class=\"data row1 col0\" >7455</td>\n",
       "      <td id=\"T_36f9d_row1_col1\" class=\"data row1 col1\" >1300</td>\n",
       "      <td id=\"T_36f9d_row1_col2\" class=\"data row1 col2\" >1,29,990</td>\n",
       "      <td id=\"T_36f9d_row1_col3\" class=\"data row1 col3\" >499</td>\n",
       "    </tr>\n",
       "    <tr>\n",
       "      <th id=\"T_36f9d_level0_row2\" class=\"row_heading level0 row2\" >Discount Percentage</th>\n",
       "      <td id=\"T_36f9d_row2_col0\" class=\"data row2 col0\" >7455</td>\n",
       "      <td id=\"T_36f9d_row2_col1\" class=\"data row2 col1\" >90</td>\n",
       "      <td id=\"T_36f9d_row2_col2\" class=\"data row2 col2\" >19%</td>\n",
       "      <td id=\"T_36f9d_row2_col3\" class=\"data row2 col3\" >536</td>\n",
       "    </tr>\n",
       "    <tr>\n",
       "      <th id=\"T_36f9d_level0_row3\" class=\"row_heading level0 row3\" >Final Price (in Rs.)</th>\n",
       "      <td id=\"T_36f9d_row3_col0\" class=\"data row3 col0\" >7455</td>\n",
       "      <td id=\"T_36f9d_row3_col1\" class=\"data row3 col1\" >2051</td>\n",
       "      <td id=\"T_36f9d_row3_col2\" class=\"data row3 col2\" >1,04,999</td>\n",
       "      <td id=\"T_36f9d_row3_col3\" class=\"data row3 col3\" >492</td>\n",
       "    </tr>\n",
       "    <tr>\n",
       "      <th id=\"T_36f9d_level0_row4\" class=\"row_heading level0 row4\" >Ratings</th>\n",
       "      <td id=\"T_36f9d_row4_col0\" class=\"data row4 col0\" >7455</td>\n",
       "      <td id=\"T_36f9d_row4_col1\" class=\"data row4 col1\" >38</td>\n",
       "      <td id=\"T_36f9d_row4_col2\" class=\"data row4 col2\" >No Ratings</td>\n",
       "      <td id=\"T_36f9d_row4_col3\" class=\"data row4 col3\" >3725</td>\n",
       "    </tr>\n",
       "    <tr>\n",
       "      <th id=\"T_36f9d_level0_row5\" class=\"row_heading level0 row5\" >Total Ratings count</th>\n",
       "      <td id=\"T_36f9d_row5_col0\" class=\"data row5 col0\" >7455</td>\n",
       "      <td id=\"T_36f9d_row5_col1\" class=\"data row5 col1\" >287</td>\n",
       "      <td id=\"T_36f9d_row5_col2\" class=\"data row5 col2\" >No Ratings</td>\n",
       "      <td id=\"T_36f9d_row5_col3\" class=\"data row5 col3\" >3725</td>\n",
       "    </tr>\n",
       "  </tbody>\n",
       "</table>\n"
      ],
      "text/plain": [
       "<pandas.io.formats.style.Styler at 0x7ce774150e20>"
      ]
     },
     "execution_count": 9,
     "metadata": {},
     "output_type": "execute_result"
    }
   ],
   "source": [
    "numerical_summary = df.describe().transpose()\n",
    "palette = sns.color_palette(\"viridis\", as_cmap=True)\n",
    "numerical_summary.style.background_gradient(cmap=palette)"
   ]
  },
  {
   "cell_type": "markdown",
   "id": "320242d8",
   "metadata": {
    "papermill": {
     "duration": 0.015272,
     "end_time": "2024-07-04T11:51:21.932963",
     "exception": false,
     "start_time": "2024-07-04T11:51:21.917691",
     "status": "completed"
    },
    "tags": []
   },
   "source": [
    "<p style=\"font-family:newtimeroman; font-size:200%; text-align:center; color:#00008B;\">Handling Object Type columns</p>\n"
   ]
  },
  {
   "cell_type": "code",
   "execution_count": 10,
   "id": "6316bab8",
   "metadata": {
    "execution": {
     "iopub.execute_input": "2024-07-04T11:51:21.965437Z",
     "iopub.status.busy": "2024-07-04T11:51:21.964867Z",
     "iopub.status.idle": "2024-07-04T11:51:21.983157Z",
     "shell.execute_reply": "2024-07-04T11:51:21.981939Z"
    },
    "papermill": {
     "duration": 0.037167,
     "end_time": "2024-07-04T11:51:21.985530",
     "exception": false,
     "start_time": "2024-07-04T11:51:21.948363",
     "status": "completed"
    },
    "tags": []
   },
   "outputs": [
    {
     "data": {
      "text/html": [
       "<div>\n",
       "<style scoped>\n",
       "    .dataframe tbody tr th:only-of-type {\n",
       "        vertical-align: middle;\n",
       "    }\n",
       "\n",
       "    .dataframe tbody tr th {\n",
       "        vertical-align: top;\n",
       "    }\n",
       "\n",
       "    .dataframe thead th {\n",
       "        text-align: right;\n",
       "    }\n",
       "</style>\n",
       "<table border=\"1\" class=\"dataframe\">\n",
       "  <thead>\n",
       "    <tr style=\"text-align: right;\">\n",
       "      <th></th>\n",
       "      <th>Product Name</th>\n",
       "      <th>Original Price (in Rs.)</th>\n",
       "      <th>Discount Percentage</th>\n",
       "      <th>Final Price (in Rs.)</th>\n",
       "      <th>Ratings</th>\n",
       "      <th>Total Ratings count</th>\n",
       "    </tr>\n",
       "  </thead>\n",
       "  <tbody>\n",
       "    <tr>\n",
       "      <th>0</th>\n",
       "      <td>Dell 14 Laptop</td>\n",
       "      <td>57,778</td>\n",
       "      <td>39%</td>\n",
       "      <td>34,990</td>\n",
       "      <td>3.8</td>\n",
       "      <td>499</td>\n",
       "    </tr>\n",
       "    <tr>\n",
       "      <th>1</th>\n",
       "      <td>Dell 15 Laptop</td>\n",
       "      <td>51,254</td>\n",
       "      <td>22%</td>\n",
       "      <td>39,990</td>\n",
       "      <td>4.3</td>\n",
       "      <td>19</td>\n",
       "    </tr>\n",
       "    <tr>\n",
       "      <th>2</th>\n",
       "      <td>Dell Inspiron 3530 Laptop</td>\n",
       "      <td>87,262</td>\n",
       "      <td>30%</td>\n",
       "      <td>60,990</td>\n",
       "      <td>3.7</td>\n",
       "      <td>68</td>\n",
       "    </tr>\n",
       "    <tr>\n",
       "      <th>3</th>\n",
       "      <td>HP Laptop 15s</td>\n",
       "      <td>56,261</td>\n",
       "      <td>33%</td>\n",
       "      <td>37,699</td>\n",
       "      <td>4</td>\n",
       "      <td>755</td>\n",
       "    </tr>\n",
       "    <tr>\n",
       "      <th>4</th>\n",
       "      <td>Lenovo V15 Intel Celeron N4500 15.6\" (39.62 cm...</td>\n",
       "      <td>42,032</td>\n",
       "      <td>52%</td>\n",
       "      <td>19,990</td>\n",
       "      <td>3.8</td>\n",
       "      <td>255</td>\n",
       "    </tr>\n",
       "    <tr>\n",
       "      <th>...</th>\n",
       "      <td>...</td>\n",
       "      <td>...</td>\n",
       "      <td>...</td>\n",
       "      <td>...</td>\n",
       "      <td>...</td>\n",
       "      <td>...</td>\n",
       "    </tr>\n",
       "    <tr>\n",
       "      <th>7457</th>\n",
       "      <td>ELECTROPRIME 4068 Smart HD Quad Core Radio WiF...</td>\n",
       "      <td>8,924</td>\n",
       "      <td>8%</td>\n",
       "      <td>8,187</td>\n",
       "      <td>No Ratings</td>\n",
       "      <td>No Ratings</td>\n",
       "    </tr>\n",
       "    <tr>\n",
       "      <th>7458</th>\n",
       "      <td>ELECTROPRIME Portable 7 Inches Quad Core OTG M...</td>\n",
       "      <td>8,924</td>\n",
       "      <td>8%</td>\n",
       "      <td>8,187</td>\n",
       "      <td>No Ratings</td>\n",
       "      <td>No Ratings</td>\n",
       "    </tr>\n",
       "    <tr>\n",
       "      <th>7459</th>\n",
       "      <td>Lenovo IdeaPad Slim 5 13th Gen Intel Core i5 1...</td>\n",
       "      <td>1,05,190</td>\n",
       "      <td>32%</td>\n",
       "      <td>71,690</td>\n",
       "      <td>4.1</td>\n",
       "      <td>25</td>\n",
       "    </tr>\n",
       "    <tr>\n",
       "      <th>7460</th>\n",
       "      <td>Lenovo IdeaPad Slim 5 12th Gen Intel Core i5 1...</td>\n",
       "      <td>82,590</td>\n",
       "      <td>25%</td>\n",
       "      <td>61,720</td>\n",
       "      <td>4.1</td>\n",
       "      <td>83</td>\n",
       "    </tr>\n",
       "    <tr>\n",
       "      <th>7461</th>\n",
       "      <td>Lenovo LOQ 12th Gen Intel Core i5-12450HX 15.6...</td>\n",
       "      <td>95,890</td>\n",
       "      <td>27%</td>\n",
       "      <td>69,990</td>\n",
       "      <td>No Ratings</td>\n",
       "      <td>No Ratings</td>\n",
       "    </tr>\n",
       "  </tbody>\n",
       "</table>\n",
       "<p>7455 rows × 6 columns</p>\n",
       "</div>"
      ],
      "text/plain": [
       "                                           Product Name  \\\n",
       "0                                        Dell 14 Laptop   \n",
       "1                                        Dell 15 Laptop   \n",
       "2                             Dell Inspiron 3530 Laptop   \n",
       "3                                         HP Laptop 15s   \n",
       "4     Lenovo V15 Intel Celeron N4500 15.6\" (39.62 cm...   \n",
       "...                                                 ...   \n",
       "7457  ELECTROPRIME 4068 Smart HD Quad Core Radio WiF...   \n",
       "7458  ELECTROPRIME Portable 7 Inches Quad Core OTG M...   \n",
       "7459  Lenovo IdeaPad Slim 5 13th Gen Intel Core i5 1...   \n",
       "7460  Lenovo IdeaPad Slim 5 12th Gen Intel Core i5 1...   \n",
       "7461  Lenovo LOQ 12th Gen Intel Core i5-12450HX 15.6...   \n",
       "\n",
       "     Original Price (in Rs.) Discount Percentage Final Price (in Rs.)  \\\n",
       "0                     57,778                 39%               34,990   \n",
       "1                     51,254                 22%               39,990   \n",
       "2                     87,262                 30%               60,990   \n",
       "3                     56,261                 33%               37,699   \n",
       "4                     42,032                 52%               19,990   \n",
       "...                      ...                 ...                  ...   \n",
       "7457                   8,924                  8%                8,187   \n",
       "7458                   8,924                  8%                8,187   \n",
       "7459                1,05,190                 32%               71,690   \n",
       "7460                  82,590                 25%               61,720   \n",
       "7461                  95,890                 27%               69,990   \n",
       "\n",
       "         Ratings Total Ratings count  \n",
       "0            3.8                 499  \n",
       "1            4.3                  19  \n",
       "2            3.7                  68  \n",
       "3              4                 755  \n",
       "4            3.8                 255  \n",
       "...          ...                 ...  \n",
       "7457  No Ratings          No Ratings  \n",
       "7458  No Ratings          No Ratings  \n",
       "7459         4.1                  25  \n",
       "7460         4.1                  83  \n",
       "7461  No Ratings          No Ratings  \n",
       "\n",
       "[7455 rows x 6 columns]"
      ]
     },
     "execution_count": 10,
     "metadata": {},
     "output_type": "execute_result"
    }
   ],
   "source": [
    "object_columns = df.select_dtypes(include=['object']).columns\n",
    "df[object_columns]"
   ]
  },
  {
   "cell_type": "code",
   "execution_count": 11,
   "id": "aa276628",
   "metadata": {
    "execution": {
     "iopub.execute_input": "2024-07-04T11:51:22.018963Z",
     "iopub.status.busy": "2024-07-04T11:51:22.018567Z",
     "iopub.status.idle": "2024-07-04T11:51:22.034296Z",
     "shell.execute_reply": "2024-07-04T11:51:22.033269Z"
    },
    "papermill": {
     "duration": 0.034881,
     "end_time": "2024-07-04T11:51:22.036581",
     "exception": false,
     "start_time": "2024-07-04T11:51:22.001700",
     "status": "completed"
    },
    "tags": []
   },
   "outputs": [
    {
     "data": {
      "text/html": [
       "<div>\n",
       "<style scoped>\n",
       "    .dataframe tbody tr th:only-of-type {\n",
       "        vertical-align: middle;\n",
       "    }\n",
       "\n",
       "    .dataframe tbody tr th {\n",
       "        vertical-align: top;\n",
       "    }\n",
       "\n",
       "    .dataframe thead th {\n",
       "        text-align: right;\n",
       "    }\n",
       "</style>\n",
       "<table border=\"1\" class=\"dataframe\">\n",
       "  <thead>\n",
       "    <tr style=\"text-align: right;\">\n",
       "      <th></th>\n",
       "      <th>Product Name</th>\n",
       "      <th>Original Price (in Rs.)</th>\n",
       "      <th>Discount Percentage</th>\n",
       "      <th>Final Price (in Rs.)</th>\n",
       "      <th>Ratings</th>\n",
       "      <th>Total Ratings count</th>\n",
       "    </tr>\n",
       "  </thead>\n",
       "  <tbody>\n",
       "    <tr>\n",
       "      <th>0</th>\n",
       "      <td>Dell 14 Laptop</td>\n",
       "      <td>57,778</td>\n",
       "      <td>39%</td>\n",
       "      <td>34,990</td>\n",
       "      <td>3.8</td>\n",
       "      <td>499</td>\n",
       "    </tr>\n",
       "    <tr>\n",
       "      <th>1</th>\n",
       "      <td>Dell 15 Laptop</td>\n",
       "      <td>51,254</td>\n",
       "      <td>22%</td>\n",
       "      <td>39,990</td>\n",
       "      <td>4.3</td>\n",
       "      <td>19</td>\n",
       "    </tr>\n",
       "    <tr>\n",
       "      <th>2</th>\n",
       "      <td>Dell Inspiron 3530 Laptop</td>\n",
       "      <td>87,262</td>\n",
       "      <td>30%</td>\n",
       "      <td>60,990</td>\n",
       "      <td>3.7</td>\n",
       "      <td>68</td>\n",
       "    </tr>\n",
       "    <tr>\n",
       "      <th>3</th>\n",
       "      <td>HP Laptop 15s</td>\n",
       "      <td>56,261</td>\n",
       "      <td>33%</td>\n",
       "      <td>37,699</td>\n",
       "      <td>4</td>\n",
       "      <td>755</td>\n",
       "    </tr>\n",
       "    <tr>\n",
       "      <th>4</th>\n",
       "      <td>Lenovo V15 Intel Celeron N4500 15.6\" (39.62 cm...</td>\n",
       "      <td>42,032</td>\n",
       "      <td>52%</td>\n",
       "      <td>19,990</td>\n",
       "      <td>3.8</td>\n",
       "      <td>255</td>\n",
       "    </tr>\n",
       "    <tr>\n",
       "      <th>...</th>\n",
       "      <td>...</td>\n",
       "      <td>...</td>\n",
       "      <td>...</td>\n",
       "      <td>...</td>\n",
       "      <td>...</td>\n",
       "      <td>...</td>\n",
       "    </tr>\n",
       "    <tr>\n",
       "      <th>7457</th>\n",
       "      <td>ELECTROPRIME 4068 Smart HD Quad Core Radio WiF...</td>\n",
       "      <td>8,924</td>\n",
       "      <td>8%</td>\n",
       "      <td>8,187</td>\n",
       "      <td>No Ratings</td>\n",
       "      <td>No Ratings</td>\n",
       "    </tr>\n",
       "    <tr>\n",
       "      <th>7458</th>\n",
       "      <td>ELECTROPRIME Portable 7 Inches Quad Core OTG M...</td>\n",
       "      <td>8,924</td>\n",
       "      <td>8%</td>\n",
       "      <td>8,187</td>\n",
       "      <td>No Ratings</td>\n",
       "      <td>No Ratings</td>\n",
       "    </tr>\n",
       "    <tr>\n",
       "      <th>7459</th>\n",
       "      <td>Lenovo IdeaPad Slim 5 13th Gen Intel Core i5 1...</td>\n",
       "      <td>1,05,190</td>\n",
       "      <td>32%</td>\n",
       "      <td>71,690</td>\n",
       "      <td>4.1</td>\n",
       "      <td>25</td>\n",
       "    </tr>\n",
       "    <tr>\n",
       "      <th>7460</th>\n",
       "      <td>Lenovo IdeaPad Slim 5 12th Gen Intel Core i5 1...</td>\n",
       "      <td>82,590</td>\n",
       "      <td>25%</td>\n",
       "      <td>61,720</td>\n",
       "      <td>4.1</td>\n",
       "      <td>83</td>\n",
       "    </tr>\n",
       "    <tr>\n",
       "      <th>7461</th>\n",
       "      <td>Lenovo LOQ 12th Gen Intel Core i5-12450HX 15.6...</td>\n",
       "      <td>95,890</td>\n",
       "      <td>27%</td>\n",
       "      <td>69,990</td>\n",
       "      <td>No Ratings</td>\n",
       "      <td>No Ratings</td>\n",
       "    </tr>\n",
       "  </tbody>\n",
       "</table>\n",
       "<p>7455 rows × 6 columns</p>\n",
       "</div>"
      ],
      "text/plain": [
       "                                           Product Name  \\\n",
       "0                                        Dell 14 Laptop   \n",
       "1                                        Dell 15 Laptop   \n",
       "2                             Dell Inspiron 3530 Laptop   \n",
       "3                                         HP Laptop 15s   \n",
       "4     Lenovo V15 Intel Celeron N4500 15.6\" (39.62 cm...   \n",
       "...                                                 ...   \n",
       "7457  ELECTROPRIME 4068 Smart HD Quad Core Radio WiF...   \n",
       "7458  ELECTROPRIME Portable 7 Inches Quad Core OTG M...   \n",
       "7459  Lenovo IdeaPad Slim 5 13th Gen Intel Core i5 1...   \n",
       "7460  Lenovo IdeaPad Slim 5 12th Gen Intel Core i5 1...   \n",
       "7461  Lenovo LOQ 12th Gen Intel Core i5-12450HX 15.6...   \n",
       "\n",
       "     Original Price (in Rs.) Discount Percentage Final Price (in Rs.)  \\\n",
       "0                     57,778                 39%               34,990   \n",
       "1                     51,254                 22%               39,990   \n",
       "2                     87,262                 30%               60,990   \n",
       "3                     56,261                 33%               37,699   \n",
       "4                     42,032                 52%               19,990   \n",
       "...                      ...                 ...                  ...   \n",
       "7457                   8,924                  8%                8,187   \n",
       "7458                   8,924                  8%                8,187   \n",
       "7459                1,05,190                 32%               71,690   \n",
       "7460                  82,590                 25%               61,720   \n",
       "7461                  95,890                 27%               69,990   \n",
       "\n",
       "         Ratings Total Ratings count  \n",
       "0            3.8                 499  \n",
       "1            4.3                  19  \n",
       "2            3.7                  68  \n",
       "3              4                 755  \n",
       "4            3.8                 255  \n",
       "...          ...                 ...  \n",
       "7457  No Ratings          No Ratings  \n",
       "7458  No Ratings          No Ratings  \n",
       "7459         4.1                  25  \n",
       "7460         4.1                  83  \n",
       "7461  No Ratings          No Ratings  \n",
       "\n",
       "[7455 rows x 6 columns]"
      ]
     },
     "execution_count": 11,
     "metadata": {},
     "output_type": "execute_result"
    }
   ],
   "source": [
    "df[object_columns]"
   ]
  },
  {
   "cell_type": "markdown",
   "id": "882cc260",
   "metadata": {
    "papermill": {
     "duration": 0.017113,
     "end_time": "2024-07-04T11:51:22.070385",
     "exception": false,
     "start_time": "2024-07-04T11:51:22.053272",
     "status": "completed"
    },
    "tags": []
   },
   "source": [
    "<div style=\"background-color: #66bbf1; padding: 20px; border-radius: 10px;\">\n",
    "    <h1 style=\"text-align: left; font-size: 22px;\"> Idntify Numerical columns</h1>\n",
    "</div>"
   ]
  },
  {
   "cell_type": "code",
   "execution_count": 12,
   "id": "ab04e183",
   "metadata": {
    "execution": {
     "iopub.execute_input": "2024-07-04T11:51:22.163400Z",
     "iopub.status.busy": "2024-07-04T11:51:22.162981Z",
     "iopub.status.idle": "2024-07-04T11:51:22.226435Z",
     "shell.execute_reply": "2024-07-04T11:51:22.225329Z"
    },
    "papermill": {
     "duration": 0.083396,
     "end_time": "2024-07-04T11:51:22.228866",
     "exception": false,
     "start_time": "2024-07-04T11:51:22.145470",
     "status": "completed"
    },
    "tags": []
   },
   "outputs": [
    {
     "name": "stdout",
     "output_type": "stream",
     "text": [
      "Columns with more than 40% numeric data:\n",
      "['Original Price (in Rs.)', 'Final Price (in Rs.)', 'Ratings', 'Total Ratings count']\n"
     ]
    }
   ],
   "source": [
    "def calculate_non_numeric_percentage(df, column_name):\n",
    "    df[column_name] = df[column_name].astype(str)\n",
    "    cleaned_column = df[column_name].str.replace(',', '')\n",
    "    numeric_column = pd.to_numeric(cleaned_column, errors='coerce')\n",
    "    non_numeric_count = numeric_column.isna().sum()\n",
    "    total_count = len(df[column_name])\n",
    "    non_numeric_percentage = (non_numeric_count / total_count) * 100\n",
    "    return non_numeric_percentage\n",
    "columns_with_high_numeric_percentage = []\n",
    "\n",
    "for column in df.columns:\n",
    "    if df[column].dtype == 'object': \n",
    "        non_numeric_percentage = calculate_non_numeric_percentage(df, column)\n",
    "        numeric_percentage = 100 - non_numeric_percentage\n",
    "        \n",
    "        # Check if more than 40% of the data is numeric\n",
    "        if numeric_percentage > 40:\n",
    "            columns_with_high_numeric_percentage.append(column)\n",
    "\n",
    "print(\"Columns with more than 40% numeric data:\")\n",
    "print(columns_with_high_numeric_percentage)\n"
   ]
  },
  {
   "cell_type": "markdown",
   "id": "320fb215",
   "metadata": {
    "papermill": {
     "duration": 0.016265,
     "end_time": "2024-07-04T11:51:22.262046",
     "exception": false,
     "start_time": "2024-07-04T11:51:22.245781",
     "status": "completed"
    },
    "tags": []
   },
   "source": [
    "<div style=\"background-color: #66bbf1; padding: 20px; border-radius: 10px;\">\n",
    "    <h1 style=\"text-align: left; font-size: 22px;\"> \n",
    "1. It identifies columns where more than 40% of the data can be converted to numeric values by removing commas and converting them.<br>\n",
    "2. For columns meeting this criterion and with less than 5% non-numeric data, it removes rows with NaN values after converting values to numeric.<br>\n",
    "3. Columns failing these conditions are converted to numeric, and non-numeric data is coerced to NaN.</h1>\n",
    "</div>\n"
   ]
  },
  {
   "cell_type": "code",
   "execution_count": 13,
   "id": "8acfda8e",
   "metadata": {
    "execution": {
     "iopub.execute_input": "2024-07-04T11:51:22.297303Z",
     "iopub.status.busy": "2024-07-04T11:51:22.296129Z",
     "iopub.status.idle": "2024-07-04T11:51:22.441220Z",
     "shell.execute_reply": "2024-07-04T11:51:22.439989Z"
    },
    "papermill": {
     "duration": 0.164984,
     "end_time": "2024-07-04T11:51:22.443681",
     "exception": false,
     "start_time": "2024-07-04T11:51:22.278697",
     "status": "completed"
    },
    "tags": []
   },
   "outputs": [
    {
     "name": "stdout",
     "output_type": "stream",
     "text": [
      "                                        Product Name Original Price (in Rs.)  \\\n",
      "0                                     Dell 14 Laptop                  57,778   \n",
      "1                                     Dell 15 Laptop                  51,254   \n",
      "2                          Dell Inspiron 3530 Laptop                  87,262   \n",
      "3                                      HP Laptop 15s                  56,261   \n",
      "4  Lenovo V15 Intel Celeron N4500 15.6\" (39.62 cm...                  42,032   \n",
      "5                                     Dell 14 Laptop                  57,778   \n",
      "6                                  TECNO MEGABOOK T1                  49,999   \n",
      "7                   Apple MacBook Air Laptop M1 chip                  89,900   \n",
      "8  (Refurbished) Lenovo ThinkPad 6th Gen Intel Co...                  89,999   \n",
      "9  Lenovo V15 AMD Ryzen 3 7320U 15.6\" (39.62cm) F...                  89,765   \n",
      "\n",
      "  Discount Percentage Final Price (in Rs.)  Ratings  Total Ratings count  \n",
      "0                 39%               34,990      3.8                499.0  \n",
      "1                 22%               39,990      4.3                 19.0  \n",
      "2                 30%               60,990      3.7                 68.0  \n",
      "3                 33%               37,699      4.0                755.0  \n",
      "4                 52%               19,990      3.8                255.0  \n",
      "5                 39%               34,990      3.8                499.0  \n",
      "6                 52%               23,990      4.0                769.0  \n",
      "7                 18%               73,990      4.7               6884.0  \n",
      "8                 78%               19,729      4.3                139.0  \n",
      "9                 70%               26,750      3.7                 23.0  \n",
      "<class 'pandas.core.frame.DataFrame'>\n",
      "Index: 7455 entries, 0 to 7461\n",
      "Data columns (total 6 columns):\n",
      " #   Column                   Non-Null Count  Dtype  \n",
      "---  ------                   --------------  -----  \n",
      " 0   Product Name             7455 non-null   object \n",
      " 1   Original Price (in Rs.)  7455 non-null   object \n",
      " 2   Discount Percentage      7455 non-null   object \n",
      " 3   Final Price (in Rs.)     7455 non-null   object \n",
      " 4   Ratings                  3730 non-null   float64\n",
      " 5   Total Ratings count      3730 non-null   float64\n",
      "dtypes: float64(2), object(4)\n",
      "memory usage: 407.7+ KB\n",
      "None\n"
     ]
    }
   ],
   "source": [
    "def calculate_non_numeric_percentage(df, column_name):\n",
    "    df[column_name] = df[column_name].astype(str)\n",
    "    cleaned_column = df[column_name].str.replace(',', '')\n",
    "    numeric_column = pd.to_numeric(cleaned_column, errors='coerce')\n",
    "    non_numeric_count = numeric_column.isna().sum()\n",
    "    total_count = len(df[column_name])\n",
    "    non_numeric_percentage = (non_numeric_count / total_count) * 100\n",
    "    \n",
    "    return non_numeric_percentage\n",
    "columns_with_high_numeric_percentage = []\n",
    "for column in df.columns:\n",
    "    if df[column].dtype == 'object':  \n",
    "        non_numeric_percentage = calculate_non_numeric_percentage(df, column)\n",
    "        numeric_percentage = 100 - non_numeric_percentage\n",
    "        \n",
    "        # Check if more than 40% of the data is numeric\n",
    "        if numeric_percentage > 40:\n",
    "            columns_with_high_numeric_percentage.append(column)\n",
    "\n",
    "for column in columns_with_high_numeric_percentage:\n",
    "    non_numeric_percentage = calculate_non_numeric_percentage(df, column)\n",
    "    if non_numeric_percentage < 5:\n",
    "        df[column] = df[column].astype(str)\n",
    "        # Replace commas in the column values to handle numbers formatted with commas\n",
    "        cleaned_column = df[column].str.replace(',', '')\n",
    "        # Convert the column to numeric values, coercing errors to NaN\n",
    "        numeric_column = pd.to_numeric(cleaned_column, errors='coerce')\n",
    "        # Drop rows with NaN values\n",
    "        df = df.dropna(subset=[column])\n",
    "    else:\n",
    "        # Convert all values to string first\n",
    "        df[column] = df[column].astype(str)\n",
    "        # Replace commas in the column values to handle numbers formatted with commas\n",
    "        cleaned_column = df[column].str.replace(',', '')\n",
    "        # Convert the column to numeric values, coercing errors to NaN\n",
    "        df[column] = pd.to_numeric(cleaned_column, errors='coerce')\n",
    "print(df.head(10))\n",
    "print(df.info())\n"
   ]
  },
  {
   "cell_type": "code",
   "execution_count": 14,
   "id": "f19372a6",
   "metadata": {
    "execution": {
     "iopub.execute_input": "2024-07-04T11:51:22.478187Z",
     "iopub.status.busy": "2024-07-04T11:51:22.477769Z",
     "iopub.status.idle": "2024-07-04T11:51:22.492630Z",
     "shell.execute_reply": "2024-07-04T11:51:22.490914Z"
    },
    "papermill": {
     "duration": 0.035067,
     "end_time": "2024-07-04T11:51:22.495080",
     "exception": false,
     "start_time": "2024-07-04T11:51:22.460013",
     "status": "completed"
    },
    "tags": []
   },
   "outputs": [
    {
     "name": "stdout",
     "output_type": "stream",
     "text": [
      "Unique values in 'Product Name':\n",
      "['Dell 14 Laptop' 'Dell 15 Laptop' 'Dell Inspiron 3530 Laptop' ...\n",
      " 'ELECTROPRIME Usb3.0 2.5Inch Computer Laptop Tools Mobile Electronic Sata Notebook Hard D R9T8'\n",
      " 'Zahara Power Switch Button Board W/Cable Replacement for HP Pavilion 15-n028us 15-n030ca 15-n030us 15-n037cl 15-n040ca 15-n040us'\n",
      " 'HP - Intel Pavilion x360 2-in-1 11.6\" Touch-Screen 4 GB Windows 10 Laptop']\n",
      "\n",
      "Unique values in 'Original Price (in Rs.)':\n",
      "['57,778' '51,254' '87,262' ... '2,166' '5,030' '1,02,645']\n",
      "\n",
      "Unique values in 'Discount Percentage':\n",
      "['39%' '22%' '30%' '33%' '52%' '18%' '78%' '70%' '36%' '24%' '19%' '51%'\n",
      " '40%' '48%' '29%' '35%' '32%' '26%' '46%' '41%' '20%' '27%' '25%' '68%'\n",
      " '38%' '86%' '34%' '44%' '74%' '63%' '37%' '73%' '23%' '16%' '83%' '60%'\n",
      " '28%' '82%' '80%' '7%' '21%' '3%' '76%' '31%' '56%' '17%' '77%' '79%'\n",
      " '6%' '69%' '12%' '62%' '47%' '84%' '15%' '54%' '8%' '72%' '58%' '42%'\n",
      " '49%' '85%' '1%' '13%' '81%' '53%' '67%' '66%' '61%' '2%' '87%' '5%'\n",
      " '43%' '65%' '11%' '14%' '71%' '4%' '45%' '75%' '10%' '9%' '50%' '64%'\n",
      " '55%' '59%' '57%' '89%' '88%' '90%']\n",
      "\n",
      "Unique values in 'Final Price (in Rs.)':\n",
      "['34,990' '39,990' '60,990' ... '7,380' '1,790' '82,116']\n",
      "\n"
     ]
    }
   ],
   "source": [
    "object_column = df.select_dtypes(include=['object']).columns\n",
    "df[object_column]\n",
    "for column in object_column:\n",
    "    unique_values = df[column].unique()\n",
    "    print(f\"Unique values in '{column}':\")\n",
    "    print(unique_values)\n",
    "    print()"
   ]
  },
  {
   "cell_type": "markdown",
   "id": "e3c37d56",
   "metadata": {
    "papermill": {
     "duration": 0.017644,
     "end_time": "2024-07-04T11:51:22.530316",
     "exception": false,
     "start_time": "2024-07-04T11:51:22.512672",
     "status": "completed"
    },
    "tags": []
   },
   "source": [
    "<div style=\"background-color: #66bbf1; padding: 20px; border-radius: 10px;\">\n",
    "    <h1 style=\"text-align: left; font-size: 22px;\"> \n",
    "        Cleans specified columns by removing commas and percentage symbols,\n",
    "        then converts them to numeric values with errors coerced to NaN.\n",
    "    </h1>\n",
    "</div>"
   ]
  },
  {
   "cell_type": "code",
   "execution_count": 15,
   "id": "3a9684a6",
   "metadata": {
    "execution": {
     "iopub.execute_input": "2024-07-04T11:51:22.567006Z",
     "iopub.status.busy": "2024-07-04T11:51:22.566590Z",
     "iopub.status.idle": "2024-07-04T11:51:22.624699Z",
     "shell.execute_reply": "2024-07-04T11:51:22.623146Z"
    },
    "papermill": {
     "duration": 0.079996,
     "end_time": "2024-07-04T11:51:22.627451",
     "exception": false,
     "start_time": "2024-07-04T11:51:22.547455",
     "status": "completed"
    },
    "tags": []
   },
   "outputs": [
    {
     "data": {
      "text/html": [
       "<div>\n",
       "<style scoped>\n",
       "    .dataframe tbody tr th:only-of-type {\n",
       "        vertical-align: middle;\n",
       "    }\n",
       "\n",
       "    .dataframe tbody tr th {\n",
       "        vertical-align: top;\n",
       "    }\n",
       "\n",
       "    .dataframe thead th {\n",
       "        text-align: right;\n",
       "    }\n",
       "</style>\n",
       "<table border=\"1\" class=\"dataframe\">\n",
       "  <thead>\n",
       "    <tr style=\"text-align: right;\">\n",
       "      <th></th>\n",
       "      <th>Product Name</th>\n",
       "      <th>Original Price (in Rs.)</th>\n",
       "      <th>Discount Percentage</th>\n",
       "      <th>Final Price (in Rs.)</th>\n",
       "      <th>Ratings</th>\n",
       "      <th>Total Ratings count</th>\n",
       "    </tr>\n",
       "  </thead>\n",
       "  <tbody>\n",
       "    <tr>\n",
       "      <th>0</th>\n",
       "      <td>Dell 14 Laptop</td>\n",
       "      <td>57778.0</td>\n",
       "      <td>39</td>\n",
       "      <td>34990.0</td>\n",
       "      <td>3.8</td>\n",
       "      <td>499.0</td>\n",
       "    </tr>\n",
       "    <tr>\n",
       "      <th>1</th>\n",
       "      <td>Dell 15 Laptop</td>\n",
       "      <td>51254.0</td>\n",
       "      <td>22</td>\n",
       "      <td>39990.0</td>\n",
       "      <td>4.3</td>\n",
       "      <td>19.0</td>\n",
       "    </tr>\n",
       "    <tr>\n",
       "      <th>2</th>\n",
       "      <td>Dell Inspiron 3530 Laptop</td>\n",
       "      <td>87262.0</td>\n",
       "      <td>30</td>\n",
       "      <td>60990.0</td>\n",
       "      <td>3.7</td>\n",
       "      <td>68.0</td>\n",
       "    </tr>\n",
       "    <tr>\n",
       "      <th>3</th>\n",
       "      <td>HP Laptop 15s</td>\n",
       "      <td>56261.0</td>\n",
       "      <td>33</td>\n",
       "      <td>37699.0</td>\n",
       "      <td>4.0</td>\n",
       "      <td>755.0</td>\n",
       "    </tr>\n",
       "    <tr>\n",
       "      <th>4</th>\n",
       "      <td>Lenovo V15 Intel Celeron N4500 15.6\" (39.62 cm...</td>\n",
       "      <td>42032.0</td>\n",
       "      <td>52</td>\n",
       "      <td>19990.0</td>\n",
       "      <td>3.8</td>\n",
       "      <td>255.0</td>\n",
       "    </tr>\n",
       "    <tr>\n",
       "      <th>...</th>\n",
       "      <td>...</td>\n",
       "      <td>...</td>\n",
       "      <td>...</td>\n",
       "      <td>...</td>\n",
       "      <td>...</td>\n",
       "      <td>...</td>\n",
       "    </tr>\n",
       "    <tr>\n",
       "      <th>7457</th>\n",
       "      <td>ELECTROPRIME 4068 Smart HD Quad Core Radio WiF...</td>\n",
       "      <td>8924.0</td>\n",
       "      <td>8</td>\n",
       "      <td>8187.0</td>\n",
       "      <td>NaN</td>\n",
       "      <td>NaN</td>\n",
       "    </tr>\n",
       "    <tr>\n",
       "      <th>7458</th>\n",
       "      <td>ELECTROPRIME Portable 7 Inches Quad Core OTG M...</td>\n",
       "      <td>8924.0</td>\n",
       "      <td>8</td>\n",
       "      <td>8187.0</td>\n",
       "      <td>NaN</td>\n",
       "      <td>NaN</td>\n",
       "    </tr>\n",
       "    <tr>\n",
       "      <th>7459</th>\n",
       "      <td>Lenovo IdeaPad Slim 5 13th Gen Intel Core i5 1...</td>\n",
       "      <td>105190.0</td>\n",
       "      <td>32</td>\n",
       "      <td>71690.0</td>\n",
       "      <td>4.1</td>\n",
       "      <td>25.0</td>\n",
       "    </tr>\n",
       "    <tr>\n",
       "      <th>7460</th>\n",
       "      <td>Lenovo IdeaPad Slim 5 12th Gen Intel Core i5 1...</td>\n",
       "      <td>82590.0</td>\n",
       "      <td>25</td>\n",
       "      <td>61720.0</td>\n",
       "      <td>4.1</td>\n",
       "      <td>83.0</td>\n",
       "    </tr>\n",
       "    <tr>\n",
       "      <th>7461</th>\n",
       "      <td>Lenovo LOQ 12th Gen Intel Core i5-12450HX 15.6...</td>\n",
       "      <td>95890.0</td>\n",
       "      <td>27</td>\n",
       "      <td>69990.0</td>\n",
       "      <td>NaN</td>\n",
       "      <td>NaN</td>\n",
       "    </tr>\n",
       "  </tbody>\n",
       "</table>\n",
       "<p>7455 rows × 6 columns</p>\n",
       "</div>"
      ],
      "text/plain": [
       "                                           Product Name  \\\n",
       "0                                        Dell 14 Laptop   \n",
       "1                                        Dell 15 Laptop   \n",
       "2                             Dell Inspiron 3530 Laptop   \n",
       "3                                         HP Laptop 15s   \n",
       "4     Lenovo V15 Intel Celeron N4500 15.6\" (39.62 cm...   \n",
       "...                                                 ...   \n",
       "7457  ELECTROPRIME 4068 Smart HD Quad Core Radio WiF...   \n",
       "7458  ELECTROPRIME Portable 7 Inches Quad Core OTG M...   \n",
       "7459  Lenovo IdeaPad Slim 5 13th Gen Intel Core i5 1...   \n",
       "7460  Lenovo IdeaPad Slim 5 12th Gen Intel Core i5 1...   \n",
       "7461  Lenovo LOQ 12th Gen Intel Core i5-12450HX 15.6...   \n",
       "\n",
       "      Original Price (in Rs.)  Discount Percentage  Final Price (in Rs.)  \\\n",
       "0                     57778.0                   39               34990.0   \n",
       "1                     51254.0                   22               39990.0   \n",
       "2                     87262.0                   30               60990.0   \n",
       "3                     56261.0                   33               37699.0   \n",
       "4                     42032.0                   52               19990.0   \n",
       "...                       ...                  ...                   ...   \n",
       "7457                   8924.0                    8                8187.0   \n",
       "7458                   8924.0                    8                8187.0   \n",
       "7459                 105190.0                   32               71690.0   \n",
       "7460                  82590.0                   25               61720.0   \n",
       "7461                  95890.0                   27               69990.0   \n",
       "\n",
       "      Ratings  Total Ratings count  \n",
       "0         3.8                499.0  \n",
       "1         4.3                 19.0  \n",
       "2         3.7                 68.0  \n",
       "3         4.0                755.0  \n",
       "4         3.8                255.0  \n",
       "...       ...                  ...  \n",
       "7457      NaN                  NaN  \n",
       "7458      NaN                  NaN  \n",
       "7459      4.1                 25.0  \n",
       "7460      4.1                 83.0  \n",
       "7461      NaN                  NaN  \n",
       "\n",
       "[7455 rows x 6 columns]"
      ]
     },
     "execution_count": 15,
     "metadata": {},
     "output_type": "execute_result"
    }
   ],
   "source": [
    "\n",
    "def clean_and_convert_columns(df, columns):\n",
    "    for column in columns:\n",
    "        df[column] = df[column].str.replace(',', '').str.replace('%', '')\n",
    "        # Convert to numeric values, coercing errors to NaN\n",
    "        df[column] = pd.to_numeric(df[column], errors='coerce')\n",
    "    return df\n",
    "columns_to_clean = ['Original Price (in Rs.)', 'Discount Percentage', 'Final Price (in Rs.)']\n",
    "df = clean_and_convert_columns(df, columns_to_clean)\n",
    "df"
   ]
  },
  {
   "cell_type": "code",
   "execution_count": 16,
   "id": "2e891e59",
   "metadata": {
    "execution": {
     "iopub.execute_input": "2024-07-04T11:51:22.663270Z",
     "iopub.status.busy": "2024-07-04T11:51:22.662476Z",
     "iopub.status.idle": "2024-07-04T11:51:22.672245Z",
     "shell.execute_reply": "2024-07-04T11:51:22.671074Z"
    },
    "papermill": {
     "duration": 0.030159,
     "end_time": "2024-07-04T11:51:22.674561",
     "exception": false,
     "start_time": "2024-07-04T11:51:22.644402",
     "status": "completed"
    },
    "tags": []
   },
   "outputs": [
    {
     "name": "stdout",
     "output_type": "stream",
     "text": [
      "Unique values in 'Product Name':\n",
      "['Dell 14 Laptop' 'Dell 15 Laptop' 'Dell Inspiron 3530 Laptop' ...\n",
      " 'ELECTROPRIME Usb3.0 2.5Inch Computer Laptop Tools Mobile Electronic Sata Notebook Hard D R9T8'\n",
      " 'Zahara Power Switch Button Board W/Cable Replacement for HP Pavilion 15-n028us 15-n030ca 15-n030us 15-n037cl 15-n040ca 15-n040us'\n",
      " 'HP - Intel Pavilion x360 2-in-1 11.6\" Touch-Screen 4 GB Windows 10 Laptop']\n",
      "\n"
     ]
    }
   ],
   "source": [
    "object_column = df.select_dtypes(include=['object']).columns\n",
    "df[object_column]\n",
    "for column in object_column:\n",
    "    unique_values = df[column].unique()\n",
    "    print(f\"Unique values in '{column}':\")\n",
    "    print(unique_values)\n",
    "    print()"
   ]
  },
  {
   "cell_type": "code",
   "execution_count": 17,
   "id": "b81496bb",
   "metadata": {
    "execution": {
     "iopub.execute_input": "2024-07-04T11:51:22.711264Z",
     "iopub.status.busy": "2024-07-04T11:51:22.710706Z",
     "iopub.status.idle": "2024-07-04T11:51:22.723387Z",
     "shell.execute_reply": "2024-07-04T11:51:22.722309Z"
    },
    "papermill": {
     "duration": 0.034102,
     "end_time": "2024-07-04T11:51:22.725801",
     "exception": false,
     "start_time": "2024-07-04T11:51:22.691699",
     "status": "completed"
    },
    "tags": []
   },
   "outputs": [
    {
     "name": "stdout",
     "output_type": "stream",
     "text": [
      "<class 'pandas.core.frame.DataFrame'>\n",
      "Index: 7455 entries, 0 to 7461\n",
      "Data columns (total 6 columns):\n",
      " #   Column                   Non-Null Count  Dtype  \n",
      "---  ------                   --------------  -----  \n",
      " 0   Product Name             7455 non-null   object \n",
      " 1   Original Price (in Rs.)  7455 non-null   float64\n",
      " 2   Discount Percentage      7455 non-null   int64  \n",
      " 3   Final Price (in Rs.)     7455 non-null   float64\n",
      " 4   Ratings                  3730 non-null   float64\n",
      " 5   Total Ratings count      3730 non-null   float64\n",
      "dtypes: float64(4), int64(1), object(1)\n",
      "memory usage: 407.7+ KB\n"
     ]
    }
   ],
   "source": [
    "df.info()"
   ]
  },
  {
   "cell_type": "code",
   "execution_count": 18,
   "id": "e67e65fb",
   "metadata": {
    "execution": {
     "iopub.execute_input": "2024-07-04T11:51:22.761538Z",
     "iopub.status.busy": "2024-07-04T11:51:22.761110Z",
     "iopub.status.idle": "2024-07-04T11:51:22.769467Z",
     "shell.execute_reply": "2024-07-04T11:51:22.768094Z"
    },
    "papermill": {
     "duration": 0.029248,
     "end_time": "2024-07-04T11:51:22.771941",
     "exception": false,
     "start_time": "2024-07-04T11:51:22.742693",
     "status": "completed"
    },
    "tags": []
   },
   "outputs": [
    {
     "name": "stdout",
     "output_type": "stream",
     "text": [
      "Number of unique values in 'Product Name' column: 2858\n"
     ]
    }
   ],
   "source": [
    "\n",
    "unique_values_count = df['Product Name'].nunique()\n",
    "\n",
    "print(f\"Number of unique values in 'Product Name' column: {unique_values_count}\")\n"
   ]
  },
  {
   "cell_type": "code",
   "execution_count": 19,
   "id": "ebd03238",
   "metadata": {
    "execution": {
     "iopub.execute_input": "2024-07-04T11:51:22.808757Z",
     "iopub.status.busy": "2024-07-04T11:51:22.807991Z",
     "iopub.status.idle": "2024-07-04T11:51:22.814555Z",
     "shell.execute_reply": "2024-07-04T11:51:22.813468Z"
    },
    "papermill": {
     "duration": 0.027754,
     "end_time": "2024-07-04T11:51:22.816922",
     "exception": false,
     "start_time": "2024-07-04T11:51:22.789168",
     "status": "completed"
    },
    "tags": []
   },
   "outputs": [],
   "source": [
    "drop_col=['Product Name']\n",
    "df.drop(drop_col,inplace=True,axis=1)"
   ]
  },
  {
   "cell_type": "code",
   "execution_count": 20,
   "id": "e030eeae",
   "metadata": {
    "execution": {
     "iopub.execute_input": "2024-07-04T11:51:22.852545Z",
     "iopub.status.busy": "2024-07-04T11:51:22.852125Z",
     "iopub.status.idle": "2024-07-04T11:51:22.859129Z",
     "shell.execute_reply": "2024-07-04T11:51:22.858121Z"
    },
    "papermill": {
     "duration": 0.027247,
     "end_time": "2024-07-04T11:51:22.861137",
     "exception": false,
     "start_time": "2024-07-04T11:51:22.833890",
     "status": "completed"
    },
    "tags": []
   },
   "outputs": [
    {
     "data": {
      "text/plain": [
       "(7455, 5)"
      ]
     },
     "execution_count": 20,
     "metadata": {},
     "output_type": "execute_result"
    }
   ],
   "source": [
    "df.shape"
   ]
  },
  {
   "cell_type": "code",
   "execution_count": 21,
   "id": "5e8785fd",
   "metadata": {
    "execution": {
     "iopub.execute_input": "2024-07-04T11:51:22.897209Z",
     "iopub.status.busy": "2024-07-04T11:51:22.896842Z",
     "iopub.status.idle": "2024-07-04T11:51:22.919446Z",
     "shell.execute_reply": "2024-07-04T11:51:22.918327Z"
    },
    "papermill": {
     "duration": 0.043379,
     "end_time": "2024-07-04T11:51:22.921729",
     "exception": false,
     "start_time": "2024-07-04T11:51:22.878350",
     "status": "completed"
    },
    "tags": []
   },
   "outputs": [
    {
     "data": {
      "text/html": [
       "<div>\n",
       "<style scoped>\n",
       "    .dataframe tbody tr th:only-of-type {\n",
       "        vertical-align: middle;\n",
       "    }\n",
       "\n",
       "    .dataframe tbody tr th {\n",
       "        vertical-align: top;\n",
       "    }\n",
       "\n",
       "    .dataframe thead th {\n",
       "        text-align: right;\n",
       "    }\n",
       "</style>\n",
       "<table border=\"1\" class=\"dataframe\">\n",
       "  <thead>\n",
       "    <tr style=\"text-align: right;\">\n",
       "      <th></th>\n",
       "      <th>Original Price (in Rs.)</th>\n",
       "      <th>Discount Percentage</th>\n",
       "      <th>Final Price (in Rs.)</th>\n",
       "      <th>Ratings</th>\n",
       "      <th>Total Ratings count</th>\n",
       "    </tr>\n",
       "  </thead>\n",
       "  <tbody>\n",
       "    <tr>\n",
       "      <th>0</th>\n",
       "      <td>57778.0</td>\n",
       "      <td>39</td>\n",
       "      <td>34990.0</td>\n",
       "      <td>3.800000</td>\n",
       "      <td>499.000000</td>\n",
       "    </tr>\n",
       "    <tr>\n",
       "      <th>1</th>\n",
       "      <td>51254.0</td>\n",
       "      <td>22</td>\n",
       "      <td>39990.0</td>\n",
       "      <td>4.300000</td>\n",
       "      <td>19.000000</td>\n",
       "    </tr>\n",
       "    <tr>\n",
       "      <th>2</th>\n",
       "      <td>87262.0</td>\n",
       "      <td>30</td>\n",
       "      <td>60990.0</td>\n",
       "      <td>3.700000</td>\n",
       "      <td>68.000000</td>\n",
       "    </tr>\n",
       "    <tr>\n",
       "      <th>3</th>\n",
       "      <td>56261.0</td>\n",
       "      <td>33</td>\n",
       "      <td>37699.0</td>\n",
       "      <td>4.000000</td>\n",
       "      <td>755.000000</td>\n",
       "    </tr>\n",
       "    <tr>\n",
       "      <th>4</th>\n",
       "      <td>42032.0</td>\n",
       "      <td>52</td>\n",
       "      <td>19990.0</td>\n",
       "      <td>3.800000</td>\n",
       "      <td>255.000000</td>\n",
       "    </tr>\n",
       "    <tr>\n",
       "      <th>...</th>\n",
       "      <td>...</td>\n",
       "      <td>...</td>\n",
       "      <td>...</td>\n",
       "      <td>...</td>\n",
       "      <td>...</td>\n",
       "    </tr>\n",
       "    <tr>\n",
       "      <th>7457</th>\n",
       "      <td>8924.0</td>\n",
       "      <td>8</td>\n",
       "      <td>8187.0</td>\n",
       "      <td>3.730643</td>\n",
       "      <td>96.534048</td>\n",
       "    </tr>\n",
       "    <tr>\n",
       "      <th>7458</th>\n",
       "      <td>8924.0</td>\n",
       "      <td>8</td>\n",
       "      <td>8187.0</td>\n",
       "      <td>3.730643</td>\n",
       "      <td>96.534048</td>\n",
       "    </tr>\n",
       "    <tr>\n",
       "      <th>7459</th>\n",
       "      <td>105190.0</td>\n",
       "      <td>32</td>\n",
       "      <td>71690.0</td>\n",
       "      <td>4.100000</td>\n",
       "      <td>25.000000</td>\n",
       "    </tr>\n",
       "    <tr>\n",
       "      <th>7460</th>\n",
       "      <td>82590.0</td>\n",
       "      <td>25</td>\n",
       "      <td>61720.0</td>\n",
       "      <td>4.100000</td>\n",
       "      <td>83.000000</td>\n",
       "    </tr>\n",
       "    <tr>\n",
       "      <th>7461</th>\n",
       "      <td>95890.0</td>\n",
       "      <td>27</td>\n",
       "      <td>69990.0</td>\n",
       "      <td>3.730643</td>\n",
       "      <td>96.534048</td>\n",
       "    </tr>\n",
       "  </tbody>\n",
       "</table>\n",
       "<p>7455 rows × 5 columns</p>\n",
       "</div>"
      ],
      "text/plain": [
       "      Original Price (in Rs.)  Discount Percentage  Final Price (in Rs.)  \\\n",
       "0                     57778.0                   39               34990.0   \n",
       "1                     51254.0                   22               39990.0   \n",
       "2                     87262.0                   30               60990.0   \n",
       "3                     56261.0                   33               37699.0   \n",
       "4                     42032.0                   52               19990.0   \n",
       "...                       ...                  ...                   ...   \n",
       "7457                   8924.0                    8                8187.0   \n",
       "7458                   8924.0                    8                8187.0   \n",
       "7459                 105190.0                   32               71690.0   \n",
       "7460                  82590.0                   25               61720.0   \n",
       "7461                  95890.0                   27               69990.0   \n",
       "\n",
       "       Ratings  Total Ratings count  \n",
       "0     3.800000           499.000000  \n",
       "1     4.300000            19.000000  \n",
       "2     3.700000            68.000000  \n",
       "3     4.000000           755.000000  \n",
       "4     3.800000           255.000000  \n",
       "...        ...                  ...  \n",
       "7457  3.730643            96.534048  \n",
       "7458  3.730643            96.534048  \n",
       "7459  4.100000            25.000000  \n",
       "7460  4.100000            83.000000  \n",
       "7461  3.730643            96.534048  \n",
       "\n",
       "[7455 rows x 5 columns]"
      ]
     },
     "execution_count": 21,
     "metadata": {},
     "output_type": "execute_result"
    }
   ],
   "source": [
    "nan_percentage = df.isna().mean() * 100\n",
    "columns_to_drop = nan_percentage[nan_percentage < 20].index\n",
    "df = df.dropna(subset=columns_to_drop)\n",
    "df = df.fillna(df.mean())\n",
    "\n",
    "df"
   ]
  },
  {
   "cell_type": "code",
   "execution_count": 22,
   "id": "af27c555",
   "metadata": {
    "execution": {
     "iopub.execute_input": "2024-07-04T11:51:22.958418Z",
     "iopub.status.busy": "2024-07-04T11:51:22.957618Z",
     "iopub.status.idle": "2024-07-04T11:51:22.964424Z",
     "shell.execute_reply": "2024-07-04T11:51:22.963482Z"
    },
    "papermill": {
     "duration": 0.02737,
     "end_time": "2024-07-04T11:51:22.966485",
     "exception": false,
     "start_time": "2024-07-04T11:51:22.939115",
     "status": "completed"
    },
    "tags": []
   },
   "outputs": [
    {
     "data": {
      "text/plain": [
       "Index(['Original Price (in Rs.)', 'Discount Percentage',\n",
       "       'Final Price (in Rs.)', 'Ratings', 'Total Ratings count'],\n",
       "      dtype='object')"
      ]
     },
     "execution_count": 22,
     "metadata": {},
     "output_type": "execute_result"
    }
   ],
   "source": [
    "colum=df.columns\n",
    "colum"
   ]
  },
  {
   "cell_type": "code",
   "execution_count": 23,
   "id": "539847a0",
   "metadata": {
    "execution": {
     "iopub.execute_input": "2024-07-04T11:51:23.003621Z",
     "iopub.status.busy": "2024-07-04T11:51:23.003186Z",
     "iopub.status.idle": "2024-07-04T11:51:23.008558Z",
     "shell.execute_reply": "2024-07-04T11:51:23.007444Z"
    },
    "papermill": {
     "duration": 0.026946,
     "end_time": "2024-07-04T11:51:23.010980",
     "exception": false,
     "start_time": "2024-07-04T11:51:22.984034",
     "status": "completed"
    },
    "tags": []
   },
   "outputs": [],
   "source": [
    "df1=df"
   ]
  },
  {
   "cell_type": "markdown",
   "id": "1e411c5e",
   "metadata": {
    "papermill": {
     "duration": 0.017211,
     "end_time": "2024-07-04T11:51:23.045792",
     "exception": false,
     "start_time": "2024-07-04T11:51:23.028581",
     "status": "completed"
    },
    "tags": []
   },
   "source": [
    "<p style=\"font-family:newtimeroman; font-size:200%; text-align:center; color:#00008B;\">Feature scaling</p>\n"
   ]
  },
  {
   "cell_type": "code",
   "execution_count": 24,
   "id": "e325124a",
   "metadata": {
    "execution": {
     "iopub.execute_input": "2024-07-04T11:51:23.082354Z",
     "iopub.status.busy": "2024-07-04T11:51:23.081910Z",
     "iopub.status.idle": "2024-07-04T11:51:23.091738Z",
     "shell.execute_reply": "2024-07-04T11:51:23.090475Z"
    },
    "papermill": {
     "duration": 0.03132,
     "end_time": "2024-07-04T11:51:23.094617",
     "exception": false,
     "start_time": "2024-07-04T11:51:23.063297",
     "status": "completed"
    },
    "tags": []
   },
   "outputs": [],
   "source": [
    "from sklearn.preprocessing import MinMaxScaler\n",
    "scaler = MinMaxScaler()\n",
    "df1 = scaler.fit_transform(df1)\n"
   ]
  },
  {
   "cell_type": "code",
   "execution_count": 25,
   "id": "60628113",
   "metadata": {
    "execution": {
     "iopub.execute_input": "2024-07-04T11:51:23.131760Z",
     "iopub.status.busy": "2024-07-04T11:51:23.131377Z",
     "iopub.status.idle": "2024-07-04T11:51:23.136434Z",
     "shell.execute_reply": "2024-07-04T11:51:23.135382Z"
    },
    "papermill": {
     "duration": 0.02589,
     "end_time": "2024-07-04T11:51:23.138559",
     "exception": false,
     "start_time": "2024-07-04T11:51:23.112669",
     "status": "completed"
    },
    "tags": []
   },
   "outputs": [],
   "source": [
    "df1=pd.DataFrame(df1,columns=colum)"
   ]
  },
  {
   "cell_type": "code",
   "execution_count": 26,
   "id": "5859defc",
   "metadata": {
    "execution": {
     "iopub.execute_input": "2024-07-04T11:51:23.175599Z",
     "iopub.status.busy": "2024-07-04T11:51:23.175157Z",
     "iopub.status.idle": "2024-07-04T11:51:23.189829Z",
     "shell.execute_reply": "2024-07-04T11:51:23.188535Z"
    },
    "papermill": {
     "duration": 0.036092,
     "end_time": "2024-07-04T11:51:23.192147",
     "exception": false,
     "start_time": "2024-07-04T11:51:23.156055",
     "status": "completed"
    },
    "tags": []
   },
   "outputs": [
    {
     "data": {
      "text/html": [
       "<div>\n",
       "<style scoped>\n",
       "    .dataframe tbody tr th:only-of-type {\n",
       "        vertical-align: middle;\n",
       "    }\n",
       "\n",
       "    .dataframe tbody tr th {\n",
       "        vertical-align: top;\n",
       "    }\n",
       "\n",
       "    .dataframe thead th {\n",
       "        text-align: right;\n",
       "    }\n",
       "</style>\n",
       "<table border=\"1\" class=\"dataframe\">\n",
       "  <thead>\n",
       "    <tr style=\"text-align: right;\">\n",
       "      <th></th>\n",
       "      <th>Original Price (in Rs.)</th>\n",
       "      <th>Discount Percentage</th>\n",
       "      <th>Final Price (in Rs.)</th>\n",
       "      <th>Ratings</th>\n",
       "      <th>Total Ratings count</th>\n",
       "    </tr>\n",
       "  </thead>\n",
       "  <tbody>\n",
       "    <tr>\n",
       "      <th>0</th>\n",
       "      <td>0.099040</td>\n",
       "      <td>0.426966</td>\n",
       "      <td>0.071239</td>\n",
       "      <td>0.700000</td>\n",
       "      <td>0.017143</td>\n",
       "    </tr>\n",
       "    <tr>\n",
       "      <th>1</th>\n",
       "      <td>0.087833</td>\n",
       "      <td>0.235955</td>\n",
       "      <td>0.081448</td>\n",
       "      <td>0.825000</td>\n",
       "      <td>0.000620</td>\n",
       "    </tr>\n",
       "    <tr>\n",
       "      <th>2</th>\n",
       "      <td>0.149685</td>\n",
       "      <td>0.325843</td>\n",
       "      <td>0.124324</td>\n",
       "      <td>0.675000</td>\n",
       "      <td>0.002306</td>\n",
       "    </tr>\n",
       "    <tr>\n",
       "      <th>3</th>\n",
       "      <td>0.096434</td>\n",
       "      <td>0.359551</td>\n",
       "      <td>0.076770</td>\n",
       "      <td>0.750000</td>\n",
       "      <td>0.025955</td>\n",
       "    </tr>\n",
       "    <tr>\n",
       "      <th>4</th>\n",
       "      <td>0.071993</td>\n",
       "      <td>0.573034</td>\n",
       "      <td>0.040614</td>\n",
       "      <td>0.700000</td>\n",
       "      <td>0.008744</td>\n",
       "    </tr>\n",
       "    <tr>\n",
       "      <th>...</th>\n",
       "      <td>...</td>\n",
       "      <td>...</td>\n",
       "      <td>...</td>\n",
       "      <td>...</td>\n",
       "      <td>...</td>\n",
       "    </tr>\n",
       "    <tr>\n",
       "      <th>7450</th>\n",
       "      <td>0.015123</td>\n",
       "      <td>0.078652</td>\n",
       "      <td>0.016515</td>\n",
       "      <td>0.682661</td>\n",
       "      <td>0.003289</td>\n",
       "    </tr>\n",
       "    <tr>\n",
       "      <th>7451</th>\n",
       "      <td>0.015123</td>\n",
       "      <td>0.078652</td>\n",
       "      <td>0.016515</td>\n",
       "      <td>0.682661</td>\n",
       "      <td>0.003289</td>\n",
       "    </tr>\n",
       "    <tr>\n",
       "      <th>7452</th>\n",
       "      <td>0.180480</td>\n",
       "      <td>0.348315</td>\n",
       "      <td>0.146170</td>\n",
       "      <td>0.775000</td>\n",
       "      <td>0.000826</td>\n",
       "    </tr>\n",
       "    <tr>\n",
       "      <th>7453</th>\n",
       "      <td>0.141660</td>\n",
       "      <td>0.269663</td>\n",
       "      <td>0.125814</td>\n",
       "      <td>0.775000</td>\n",
       "      <td>0.002823</td>\n",
       "    </tr>\n",
       "    <tr>\n",
       "      <th>7454</th>\n",
       "      <td>0.164505</td>\n",
       "      <td>0.292135</td>\n",
       "      <td>0.142699</td>\n",
       "      <td>0.682661</td>\n",
       "      <td>0.003289</td>\n",
       "    </tr>\n",
       "  </tbody>\n",
       "</table>\n",
       "<p>7455 rows × 5 columns</p>\n",
       "</div>"
      ],
      "text/plain": [
       "      Original Price (in Rs.)  Discount Percentage  Final Price (in Rs.)  \\\n",
       "0                    0.099040             0.426966              0.071239   \n",
       "1                    0.087833             0.235955              0.081448   \n",
       "2                    0.149685             0.325843              0.124324   \n",
       "3                    0.096434             0.359551              0.076770   \n",
       "4                    0.071993             0.573034              0.040614   \n",
       "...                       ...                  ...                   ...   \n",
       "7450                 0.015123             0.078652              0.016515   \n",
       "7451                 0.015123             0.078652              0.016515   \n",
       "7452                 0.180480             0.348315              0.146170   \n",
       "7453                 0.141660             0.269663              0.125814   \n",
       "7454                 0.164505             0.292135              0.142699   \n",
       "\n",
       "       Ratings  Total Ratings count  \n",
       "0     0.700000             0.017143  \n",
       "1     0.825000             0.000620  \n",
       "2     0.675000             0.002306  \n",
       "3     0.750000             0.025955  \n",
       "4     0.700000             0.008744  \n",
       "...        ...                  ...  \n",
       "7450  0.682661             0.003289  \n",
       "7451  0.682661             0.003289  \n",
       "7452  0.775000             0.000826  \n",
       "7453  0.775000             0.002823  \n",
       "7454  0.682661             0.003289  \n",
       "\n",
       "[7455 rows x 5 columns]"
      ]
     },
     "execution_count": 26,
     "metadata": {},
     "output_type": "execute_result"
    }
   ],
   "source": [
    "df1"
   ]
  },
  {
   "cell_type": "code",
   "execution_count": 27,
   "id": "8088d46d",
   "metadata": {
    "execution": {
     "iopub.execute_input": "2024-07-04T11:51:23.229853Z",
     "iopub.status.busy": "2024-07-04T11:51:23.228822Z",
     "iopub.status.idle": "2024-07-04T11:51:23.237600Z",
     "shell.execute_reply": "2024-07-04T11:51:23.236446Z"
    },
    "papermill": {
     "duration": 0.03002,
     "end_time": "2024-07-04T11:51:23.239889",
     "exception": false,
     "start_time": "2024-07-04T11:51:23.209869",
     "status": "completed"
    },
    "tags": []
   },
   "outputs": [
    {
     "data": {
      "text/plain": [
       "0       0.071239\n",
       "1       0.081448\n",
       "2       0.124324\n",
       "3       0.076770\n",
       "4       0.040614\n",
       "          ...   \n",
       "7450    0.016515\n",
       "7451    0.016515\n",
       "7452    0.146170\n",
       "7453    0.125814\n",
       "7454    0.142699\n",
       "Name: Final Price (in Rs.), Length: 7455, dtype: float64"
      ]
     },
     "execution_count": 27,
     "metadata": {},
     "output_type": "execute_result"
    }
   ],
   "source": [
    "y_scaled = df1['Final Price (in Rs.)']\n",
    "y_scaled"
   ]
  },
  {
   "cell_type": "code",
   "execution_count": 28,
   "id": "bd27c059",
   "metadata": {
    "execution": {
     "iopub.execute_input": "2024-07-04T11:51:23.277399Z",
     "iopub.status.busy": "2024-07-04T11:51:23.276656Z",
     "iopub.status.idle": "2024-07-04T11:51:23.291441Z",
     "shell.execute_reply": "2024-07-04T11:51:23.290185Z"
    },
    "papermill": {
     "duration": 0.03611,
     "end_time": "2024-07-04T11:51:23.293731",
     "exception": false,
     "start_time": "2024-07-04T11:51:23.257621",
     "status": "completed"
    },
    "tags": []
   },
   "outputs": [
    {
     "data": {
      "text/html": [
       "<div>\n",
       "<style scoped>\n",
       "    .dataframe tbody tr th:only-of-type {\n",
       "        vertical-align: middle;\n",
       "    }\n",
       "\n",
       "    .dataframe tbody tr th {\n",
       "        vertical-align: top;\n",
       "    }\n",
       "\n",
       "    .dataframe thead th {\n",
       "        text-align: right;\n",
       "    }\n",
       "</style>\n",
       "<table border=\"1\" class=\"dataframe\">\n",
       "  <thead>\n",
       "    <tr style=\"text-align: right;\">\n",
       "      <th></th>\n",
       "      <th>Original Price (in Rs.)</th>\n",
       "      <th>Discount Percentage</th>\n",
       "      <th>Final Price (in Rs.)</th>\n",
       "      <th>Ratings</th>\n",
       "      <th>Total Ratings count</th>\n",
       "    </tr>\n",
       "  </thead>\n",
       "  <tbody>\n",
       "    <tr>\n",
       "      <th>0</th>\n",
       "      <td>0.099040</td>\n",
       "      <td>0.426966</td>\n",
       "      <td>0.071239</td>\n",
       "      <td>0.700000</td>\n",
       "      <td>0.017143</td>\n",
       "    </tr>\n",
       "    <tr>\n",
       "      <th>1</th>\n",
       "      <td>0.087833</td>\n",
       "      <td>0.235955</td>\n",
       "      <td>0.081448</td>\n",
       "      <td>0.825000</td>\n",
       "      <td>0.000620</td>\n",
       "    </tr>\n",
       "    <tr>\n",
       "      <th>2</th>\n",
       "      <td>0.149685</td>\n",
       "      <td>0.325843</td>\n",
       "      <td>0.124324</td>\n",
       "      <td>0.675000</td>\n",
       "      <td>0.002306</td>\n",
       "    </tr>\n",
       "    <tr>\n",
       "      <th>3</th>\n",
       "      <td>0.096434</td>\n",
       "      <td>0.359551</td>\n",
       "      <td>0.076770</td>\n",
       "      <td>0.750000</td>\n",
       "      <td>0.025955</td>\n",
       "    </tr>\n",
       "    <tr>\n",
       "      <th>4</th>\n",
       "      <td>0.071993</td>\n",
       "      <td>0.573034</td>\n",
       "      <td>0.040614</td>\n",
       "      <td>0.700000</td>\n",
       "      <td>0.008744</td>\n",
       "    </tr>\n",
       "    <tr>\n",
       "      <th>...</th>\n",
       "      <td>...</td>\n",
       "      <td>...</td>\n",
       "      <td>...</td>\n",
       "      <td>...</td>\n",
       "      <td>...</td>\n",
       "    </tr>\n",
       "    <tr>\n",
       "      <th>7450</th>\n",
       "      <td>0.015123</td>\n",
       "      <td>0.078652</td>\n",
       "      <td>0.016515</td>\n",
       "      <td>0.682661</td>\n",
       "      <td>0.003289</td>\n",
       "    </tr>\n",
       "    <tr>\n",
       "      <th>7451</th>\n",
       "      <td>0.015123</td>\n",
       "      <td>0.078652</td>\n",
       "      <td>0.016515</td>\n",
       "      <td>0.682661</td>\n",
       "      <td>0.003289</td>\n",
       "    </tr>\n",
       "    <tr>\n",
       "      <th>7452</th>\n",
       "      <td>0.180480</td>\n",
       "      <td>0.348315</td>\n",
       "      <td>0.146170</td>\n",
       "      <td>0.775000</td>\n",
       "      <td>0.000826</td>\n",
       "    </tr>\n",
       "    <tr>\n",
       "      <th>7453</th>\n",
       "      <td>0.141660</td>\n",
       "      <td>0.269663</td>\n",
       "      <td>0.125814</td>\n",
       "      <td>0.775000</td>\n",
       "      <td>0.002823</td>\n",
       "    </tr>\n",
       "    <tr>\n",
       "      <th>7454</th>\n",
       "      <td>0.164505</td>\n",
       "      <td>0.292135</td>\n",
       "      <td>0.142699</td>\n",
       "      <td>0.682661</td>\n",
       "      <td>0.003289</td>\n",
       "    </tr>\n",
       "  </tbody>\n",
       "</table>\n",
       "<p>7455 rows × 5 columns</p>\n",
       "</div>"
      ],
      "text/plain": [
       "      Original Price (in Rs.)  Discount Percentage  Final Price (in Rs.)  \\\n",
       "0                    0.099040             0.426966              0.071239   \n",
       "1                    0.087833             0.235955              0.081448   \n",
       "2                    0.149685             0.325843              0.124324   \n",
       "3                    0.096434             0.359551              0.076770   \n",
       "4                    0.071993             0.573034              0.040614   \n",
       "...                       ...                  ...                   ...   \n",
       "7450                 0.015123             0.078652              0.016515   \n",
       "7451                 0.015123             0.078652              0.016515   \n",
       "7452                 0.180480             0.348315              0.146170   \n",
       "7453                 0.141660             0.269663              0.125814   \n",
       "7454                 0.164505             0.292135              0.142699   \n",
       "\n",
       "       Ratings  Total Ratings count  \n",
       "0     0.700000             0.017143  \n",
       "1     0.825000             0.000620  \n",
       "2     0.675000             0.002306  \n",
       "3     0.750000             0.025955  \n",
       "4     0.700000             0.008744  \n",
       "...        ...                  ...  \n",
       "7450  0.682661             0.003289  \n",
       "7451  0.682661             0.003289  \n",
       "7452  0.775000             0.000826  \n",
       "7453  0.775000             0.002823  \n",
       "7454  0.682661             0.003289  \n",
       "\n",
       "[7455 rows x 5 columns]"
      ]
     },
     "execution_count": 28,
     "metadata": {},
     "output_type": "execute_result"
    }
   ],
   "source": [
    "df1"
   ]
  },
  {
   "cell_type": "code",
   "execution_count": 29,
   "id": "61be8d4d",
   "metadata": {
    "execution": {
     "iopub.execute_input": "2024-07-04T11:51:23.333132Z",
     "iopub.status.busy": "2024-07-04T11:51:23.332166Z",
     "iopub.status.idle": "2024-07-04T11:51:23.346717Z",
     "shell.execute_reply": "2024-07-04T11:51:23.345596Z"
    },
    "papermill": {
     "duration": 0.036418,
     "end_time": "2024-07-04T11:51:23.349126",
     "exception": false,
     "start_time": "2024-07-04T11:51:23.312708",
     "status": "completed"
    },
    "tags": []
   },
   "outputs": [
    {
     "data": {
      "text/html": [
       "<div>\n",
       "<style scoped>\n",
       "    .dataframe tbody tr th:only-of-type {\n",
       "        vertical-align: middle;\n",
       "    }\n",
       "\n",
       "    .dataframe tbody tr th {\n",
       "        vertical-align: top;\n",
       "    }\n",
       "\n",
       "    .dataframe thead th {\n",
       "        text-align: right;\n",
       "    }\n",
       "</style>\n",
       "<table border=\"1\" class=\"dataframe\">\n",
       "  <thead>\n",
       "    <tr style=\"text-align: right;\">\n",
       "      <th></th>\n",
       "      <th>Original Price (in Rs.)</th>\n",
       "      <th>Discount Percentage</th>\n",
       "      <th>Ratings</th>\n",
       "      <th>Total Ratings count</th>\n",
       "    </tr>\n",
       "  </thead>\n",
       "  <tbody>\n",
       "    <tr>\n",
       "      <th>0</th>\n",
       "      <td>0.099040</td>\n",
       "      <td>0.426966</td>\n",
       "      <td>0.700000</td>\n",
       "      <td>0.017143</td>\n",
       "    </tr>\n",
       "    <tr>\n",
       "      <th>1</th>\n",
       "      <td>0.087833</td>\n",
       "      <td>0.235955</td>\n",
       "      <td>0.825000</td>\n",
       "      <td>0.000620</td>\n",
       "    </tr>\n",
       "    <tr>\n",
       "      <th>2</th>\n",
       "      <td>0.149685</td>\n",
       "      <td>0.325843</td>\n",
       "      <td>0.675000</td>\n",
       "      <td>0.002306</td>\n",
       "    </tr>\n",
       "    <tr>\n",
       "      <th>3</th>\n",
       "      <td>0.096434</td>\n",
       "      <td>0.359551</td>\n",
       "      <td>0.750000</td>\n",
       "      <td>0.025955</td>\n",
       "    </tr>\n",
       "    <tr>\n",
       "      <th>4</th>\n",
       "      <td>0.071993</td>\n",
       "      <td>0.573034</td>\n",
       "      <td>0.700000</td>\n",
       "      <td>0.008744</td>\n",
       "    </tr>\n",
       "    <tr>\n",
       "      <th>...</th>\n",
       "      <td>...</td>\n",
       "      <td>...</td>\n",
       "      <td>...</td>\n",
       "      <td>...</td>\n",
       "    </tr>\n",
       "    <tr>\n",
       "      <th>7450</th>\n",
       "      <td>0.015123</td>\n",
       "      <td>0.078652</td>\n",
       "      <td>0.682661</td>\n",
       "      <td>0.003289</td>\n",
       "    </tr>\n",
       "    <tr>\n",
       "      <th>7451</th>\n",
       "      <td>0.015123</td>\n",
       "      <td>0.078652</td>\n",
       "      <td>0.682661</td>\n",
       "      <td>0.003289</td>\n",
       "    </tr>\n",
       "    <tr>\n",
       "      <th>7452</th>\n",
       "      <td>0.180480</td>\n",
       "      <td>0.348315</td>\n",
       "      <td>0.775000</td>\n",
       "      <td>0.000826</td>\n",
       "    </tr>\n",
       "    <tr>\n",
       "      <th>7453</th>\n",
       "      <td>0.141660</td>\n",
       "      <td>0.269663</td>\n",
       "      <td>0.775000</td>\n",
       "      <td>0.002823</td>\n",
       "    </tr>\n",
       "    <tr>\n",
       "      <th>7454</th>\n",
       "      <td>0.164505</td>\n",
       "      <td>0.292135</td>\n",
       "      <td>0.682661</td>\n",
       "      <td>0.003289</td>\n",
       "    </tr>\n",
       "  </tbody>\n",
       "</table>\n",
       "<p>7455 rows × 4 columns</p>\n",
       "</div>"
      ],
      "text/plain": [
       "      Original Price (in Rs.)  Discount Percentage   Ratings  \\\n",
       "0                    0.099040             0.426966  0.700000   \n",
       "1                    0.087833             0.235955  0.825000   \n",
       "2                    0.149685             0.325843  0.675000   \n",
       "3                    0.096434             0.359551  0.750000   \n",
       "4                    0.071993             0.573034  0.700000   \n",
       "...                       ...                  ...       ...   \n",
       "7450                 0.015123             0.078652  0.682661   \n",
       "7451                 0.015123             0.078652  0.682661   \n",
       "7452                 0.180480             0.348315  0.775000   \n",
       "7453                 0.141660             0.269663  0.775000   \n",
       "7454                 0.164505             0.292135  0.682661   \n",
       "\n",
       "      Total Ratings count  \n",
       "0                0.017143  \n",
       "1                0.000620  \n",
       "2                0.002306  \n",
       "3                0.025955  \n",
       "4                0.008744  \n",
       "...                   ...  \n",
       "7450             0.003289  \n",
       "7451             0.003289  \n",
       "7452             0.000826  \n",
       "7453             0.002823  \n",
       "7454             0.003289  \n",
       "\n",
       "[7455 rows x 4 columns]"
      ]
     },
     "execution_count": 29,
     "metadata": {},
     "output_type": "execute_result"
    }
   ],
   "source": [
    "x = df1.drop(['Final Price (in Rs.)'],axis=1)\n",
    "x"
   ]
  },
  {
   "cell_type": "markdown",
   "id": "e804d9ac",
   "metadata": {
    "papermill": {
     "duration": 0.018855,
     "end_time": "2024-07-04T11:51:23.386357",
     "exception": false,
     "start_time": "2024-07-04T11:51:23.367502",
     "status": "completed"
    },
    "tags": []
   },
   "source": [
    "<p style=\"font-family:newtimeroman; font-size:200%; text-align:center; color:#00008B;\">Splitting Data</p>\n"
   ]
  },
  {
   "cell_type": "code",
   "execution_count": 30,
   "id": "2adf89a6",
   "metadata": {
    "execution": {
     "iopub.execute_input": "2024-07-04T11:51:23.425572Z",
     "iopub.status.busy": "2024-07-04T11:51:23.424618Z",
     "iopub.status.idle": "2024-07-04T11:51:23.434247Z",
     "shell.execute_reply": "2024-07-04T11:51:23.433272Z"
    },
    "papermill": {
     "duration": 0.031881,
     "end_time": "2024-07-04T11:51:23.436632",
     "exception": false,
     "start_time": "2024-07-04T11:51:23.404751",
     "status": "completed"
    },
    "tags": []
   },
   "outputs": [],
   "source": [
    "from sklearn.model_selection import train_test_split\n",
    "\n",
    "X_train, X_test, y_train, y_test = train_test_split(x, y_scaled, test_size=0.2, random_state=42)"
   ]
  },
  {
   "cell_type": "code",
   "execution_count": 31,
   "id": "b08da61f",
   "metadata": {
    "execution": {
     "iopub.execute_input": "2024-07-04T11:51:23.474895Z",
     "iopub.status.busy": "2024-07-04T11:51:23.474515Z",
     "iopub.status.idle": "2024-07-04T11:51:23.488146Z",
     "shell.execute_reply": "2024-07-04T11:51:23.487049Z"
    },
    "papermill": {
     "duration": 0.035667,
     "end_time": "2024-07-04T11:51:23.490659",
     "exception": false,
     "start_time": "2024-07-04T11:51:23.454992",
     "status": "completed"
    },
    "tags": []
   },
   "outputs": [
    {
     "data": {
      "text/html": [
       "<div>\n",
       "<style scoped>\n",
       "    .dataframe tbody tr th:only-of-type {\n",
       "        vertical-align: middle;\n",
       "    }\n",
       "\n",
       "    .dataframe tbody tr th {\n",
       "        vertical-align: top;\n",
       "    }\n",
       "\n",
       "    .dataframe thead th {\n",
       "        text-align: right;\n",
       "    }\n",
       "</style>\n",
       "<table border=\"1\" class=\"dataframe\">\n",
       "  <thead>\n",
       "    <tr style=\"text-align: right;\">\n",
       "      <th></th>\n",
       "      <th>Original Price (in Rs.)</th>\n",
       "      <th>Discount Percentage</th>\n",
       "      <th>Ratings</th>\n",
       "      <th>Total Ratings count</th>\n",
       "    </tr>\n",
       "  </thead>\n",
       "  <tbody>\n",
       "    <tr>\n",
       "      <th>7163</th>\n",
       "      <td>0.149685</td>\n",
       "      <td>0.325843</td>\n",
       "      <td>0.675000</td>\n",
       "      <td>0.002306</td>\n",
       "    </tr>\n",
       "    <tr>\n",
       "      <th>434</th>\n",
       "      <td>0.154371</td>\n",
       "      <td>0.438202</td>\n",
       "      <td>0.750000</td>\n",
       "      <td>0.001343</td>\n",
       "    </tr>\n",
       "    <tr>\n",
       "      <th>751</th>\n",
       "      <td>0.099040</td>\n",
       "      <td>0.426966</td>\n",
       "      <td>0.700000</td>\n",
       "      <td>0.017143</td>\n",
       "    </tr>\n",
       "    <tr>\n",
       "      <th>2692</th>\n",
       "      <td>0.712644</td>\n",
       "      <td>0.078652</td>\n",
       "      <td>0.800000</td>\n",
       "      <td>0.000069</td>\n",
       "    </tr>\n",
       "    <tr>\n",
       "      <th>4762</th>\n",
       "      <td>0.138911</td>\n",
       "      <td>0.382022</td>\n",
       "      <td>0.682661</td>\n",
       "      <td>0.003289</td>\n",
       "    </tr>\n",
       "    <tr>\n",
       "      <th>...</th>\n",
       "      <td>...</td>\n",
       "      <td>...</td>\n",
       "      <td>...</td>\n",
       "      <td>...</td>\n",
       "    </tr>\n",
       "    <tr>\n",
       "      <th>5191</th>\n",
       "      <td>0.001510</td>\n",
       "      <td>0.797753</td>\n",
       "      <td>0.682661</td>\n",
       "      <td>0.003289</td>\n",
       "    </tr>\n",
       "    <tr>\n",
       "      <th>5226</th>\n",
       "      <td>0.180480</td>\n",
       "      <td>0.348315</td>\n",
       "      <td>0.775000</td>\n",
       "      <td>0.000826</td>\n",
       "    </tr>\n",
       "    <tr>\n",
       "      <th>5390</th>\n",
       "      <td>0.001510</td>\n",
       "      <td>0.797753</td>\n",
       "      <td>0.682661</td>\n",
       "      <td>0.003289</td>\n",
       "    </tr>\n",
       "    <tr>\n",
       "      <th>860</th>\n",
       "      <td>0.087380</td>\n",
       "      <td>0.235955</td>\n",
       "      <td>0.682661</td>\n",
       "      <td>0.003289</td>\n",
       "    </tr>\n",
       "    <tr>\n",
       "      <th>7270</th>\n",
       "      <td>0.014300</td>\n",
       "      <td>0.089888</td>\n",
       "      <td>0.682661</td>\n",
       "      <td>0.003289</td>\n",
       "    </tr>\n",
       "  </tbody>\n",
       "</table>\n",
       "<p>5964 rows × 4 columns</p>\n",
       "</div>"
      ],
      "text/plain": [
       "      Original Price (in Rs.)  Discount Percentage   Ratings  \\\n",
       "7163                 0.149685             0.325843  0.675000   \n",
       "434                  0.154371             0.438202  0.750000   \n",
       "751                  0.099040             0.426966  0.700000   \n",
       "2692                 0.712644             0.078652  0.800000   \n",
       "4762                 0.138911             0.382022  0.682661   \n",
       "...                       ...                  ...       ...   \n",
       "5191                 0.001510             0.797753  0.682661   \n",
       "5226                 0.180480             0.348315  0.775000   \n",
       "5390                 0.001510             0.797753  0.682661   \n",
       "860                  0.087380             0.235955  0.682661   \n",
       "7270                 0.014300             0.089888  0.682661   \n",
       "\n",
       "      Total Ratings count  \n",
       "7163             0.002306  \n",
       "434              0.001343  \n",
       "751              0.017143  \n",
       "2692             0.000069  \n",
       "4762             0.003289  \n",
       "...                   ...  \n",
       "5191             0.003289  \n",
       "5226             0.000826  \n",
       "5390             0.003289  \n",
       "860              0.003289  \n",
       "7270             0.003289  \n",
       "\n",
       "[5964 rows x 4 columns]"
      ]
     },
     "execution_count": 31,
     "metadata": {},
     "output_type": "execute_result"
    }
   ],
   "source": [
    "X_train"
   ]
  },
  {
   "cell_type": "code",
   "execution_count": 32,
   "id": "3a5ad741",
   "metadata": {
    "execution": {
     "iopub.execute_input": "2024-07-04T11:51:23.529742Z",
     "iopub.status.busy": "2024-07-04T11:51:23.529371Z",
     "iopub.status.idle": "2024-07-04T11:51:23.537996Z",
     "shell.execute_reply": "2024-07-04T11:51:23.536729Z"
    },
    "papermill": {
     "duration": 0.030867,
     "end_time": "2024-07-04T11:51:23.540312",
     "exception": false,
     "start_time": "2024-07-04T11:51:23.509445",
     "status": "completed"
    },
    "tags": []
   },
   "outputs": [
    {
     "data": {
      "text/plain": [
       "7163    0.124324\n",
       "434     0.110032\n",
       "751     0.071239\n",
       "2692    0.782592\n",
       "4762    0.106988\n",
       "          ...   \n",
       "5191    0.000370\n",
       "5226    0.146170\n",
       "5390    0.000370\n",
       "860     0.081348\n",
       "7270    0.015470\n",
       "Name: Final Price (in Rs.), Length: 5964, dtype: float64"
      ]
     },
     "execution_count": 32,
     "metadata": {},
     "output_type": "execute_result"
    }
   ],
   "source": [
    "y_train"
   ]
  },
  {
   "cell_type": "markdown",
   "id": "854279e6",
   "metadata": {
    "papermill": {
     "duration": 0.028304,
     "end_time": "2024-07-04T11:51:23.595178",
     "exception": false,
     "start_time": "2024-07-04T11:51:23.566874",
     "status": "completed"
    },
    "tags": []
   },
   "source": [
    "<p style=\"font-family:newtimeroman; font-size:200%; text-align:center; color:#00008B;\"> Model Training & Evalution</p>\n"
   ]
  },
  {
   "cell_type": "markdown",
   "id": "b76b7ff9",
   "metadata": {
    "papermill": {
     "duration": 0.018369,
     "end_time": "2024-07-04T11:51:23.641213",
     "exception": false,
     "start_time": "2024-07-04T11:51:23.622844",
     "status": "completed"
    },
    "tags": []
   },
   "source": [
    "<div style=\"background-color: #ff0000; padding: 20px; border-radius: 10px;\">\n",
    "    <h1 style=\"text-align: left; font-size: 25px;\"> LinearRegression </h1>\n",
    "</div>\n"
   ]
  },
  {
   "cell_type": "code",
   "execution_count": 33,
   "id": "59140a30",
   "metadata": {
    "execution": {
     "iopub.execute_input": "2024-07-04T11:51:23.692000Z",
     "iopub.status.busy": "2024-07-04T11:51:23.690873Z",
     "iopub.status.idle": "2024-07-04T11:51:23.730103Z",
     "shell.execute_reply": "2024-07-04T11:51:23.728060Z"
    },
    "papermill": {
     "duration": 0.06833,
     "end_time": "2024-07-04T11:51:23.733131",
     "exception": false,
     "start_time": "2024-07-04T11:51:23.664801",
     "status": "completed"
    },
    "tags": []
   },
   "outputs": [
    {
     "data": {
      "text/html": [
       "<style>#sk-container-id-1 {color: black;background-color: white;}#sk-container-id-1 pre{padding: 0;}#sk-container-id-1 div.sk-toggleable {background-color: white;}#sk-container-id-1 label.sk-toggleable__label {cursor: pointer;display: block;width: 100%;margin-bottom: 0;padding: 0.3em;box-sizing: border-box;text-align: center;}#sk-container-id-1 label.sk-toggleable__label-arrow:before {content: \"▸\";float: left;margin-right: 0.25em;color: #696969;}#sk-container-id-1 label.sk-toggleable__label-arrow:hover:before {color: black;}#sk-container-id-1 div.sk-estimator:hover label.sk-toggleable__label-arrow:before {color: black;}#sk-container-id-1 div.sk-toggleable__content {max-height: 0;max-width: 0;overflow: hidden;text-align: left;background-color: #f0f8ff;}#sk-container-id-1 div.sk-toggleable__content pre {margin: 0.2em;color: black;border-radius: 0.25em;background-color: #f0f8ff;}#sk-container-id-1 input.sk-toggleable__control:checked~div.sk-toggleable__content {max-height: 200px;max-width: 100%;overflow: auto;}#sk-container-id-1 input.sk-toggleable__control:checked~label.sk-toggleable__label-arrow:before {content: \"▾\";}#sk-container-id-1 div.sk-estimator input.sk-toggleable__control:checked~label.sk-toggleable__label {background-color: #d4ebff;}#sk-container-id-1 div.sk-label input.sk-toggleable__control:checked~label.sk-toggleable__label {background-color: #d4ebff;}#sk-container-id-1 input.sk-hidden--visually {border: 0;clip: rect(1px 1px 1px 1px);clip: rect(1px, 1px, 1px, 1px);height: 1px;margin: -1px;overflow: hidden;padding: 0;position: absolute;width: 1px;}#sk-container-id-1 div.sk-estimator {font-family: monospace;background-color: #f0f8ff;border: 1px dotted black;border-radius: 0.25em;box-sizing: border-box;margin-bottom: 0.5em;}#sk-container-id-1 div.sk-estimator:hover {background-color: #d4ebff;}#sk-container-id-1 div.sk-parallel-item::after {content: \"\";width: 100%;border-bottom: 1px solid gray;flex-grow: 1;}#sk-container-id-1 div.sk-label:hover label.sk-toggleable__label {background-color: #d4ebff;}#sk-container-id-1 div.sk-serial::before {content: \"\";position: absolute;border-left: 1px solid gray;box-sizing: border-box;top: 0;bottom: 0;left: 50%;z-index: 0;}#sk-container-id-1 div.sk-serial {display: flex;flex-direction: column;align-items: center;background-color: white;padding-right: 0.2em;padding-left: 0.2em;position: relative;}#sk-container-id-1 div.sk-item {position: relative;z-index: 1;}#sk-container-id-1 div.sk-parallel {display: flex;align-items: stretch;justify-content: center;background-color: white;position: relative;}#sk-container-id-1 div.sk-item::before, #sk-container-id-1 div.sk-parallel-item::before {content: \"\";position: absolute;border-left: 1px solid gray;box-sizing: border-box;top: 0;bottom: 0;left: 50%;z-index: -1;}#sk-container-id-1 div.sk-parallel-item {display: flex;flex-direction: column;z-index: 1;position: relative;background-color: white;}#sk-container-id-1 div.sk-parallel-item:first-child::after {align-self: flex-end;width: 50%;}#sk-container-id-1 div.sk-parallel-item:last-child::after {align-self: flex-start;width: 50%;}#sk-container-id-1 div.sk-parallel-item:only-child::after {width: 0;}#sk-container-id-1 div.sk-dashed-wrapped {border: 1px dashed gray;margin: 0 0.4em 0.5em 0.4em;box-sizing: border-box;padding-bottom: 0.4em;background-color: white;}#sk-container-id-1 div.sk-label label {font-family: monospace;font-weight: bold;display: inline-block;line-height: 1.2em;}#sk-container-id-1 div.sk-label-container {text-align: center;}#sk-container-id-1 div.sk-container {/* jupyter's `normalize.less` sets `[hidden] { display: none; }` but bootstrap.min.css set `[hidden] { display: none !important; }` so we also need the `!important` here to be able to override the default hidden behavior on the sphinx rendered scikit-learn.org. See: https://github.com/scikit-learn/scikit-learn/issues/21755 */display: inline-block !important;position: relative;}#sk-container-id-1 div.sk-text-repr-fallback {display: none;}</style><div id=\"sk-container-id-1\" class=\"sk-top-container\"><div class=\"sk-text-repr-fallback\"><pre>LinearRegression()</pre><b>In a Jupyter environment, please rerun this cell to show the HTML representation or trust the notebook. <br />On GitHub, the HTML representation is unable to render, please try loading this page with nbviewer.org.</b></div><div class=\"sk-container\" hidden><div class=\"sk-item\"><div class=\"sk-estimator sk-toggleable\"><input class=\"sk-toggleable__control sk-hidden--visually\" id=\"sk-estimator-id-1\" type=\"checkbox\" checked><label for=\"sk-estimator-id-1\" class=\"sk-toggleable__label sk-toggleable__label-arrow\">LinearRegression</label><div class=\"sk-toggleable__content\"><pre>LinearRegression()</pre></div></div></div></div></div>"
      ],
      "text/plain": [
       "LinearRegression()"
      ]
     },
     "execution_count": 33,
     "metadata": {},
     "output_type": "execute_result"
    }
   ],
   "source": [
    "from sklearn.linear_model import LinearRegression\n",
    "\n",
    "linear_reg = LinearRegression()\n",
    "linear_reg.fit(X_train, y_train)\n",
    "\n"
   ]
  },
  {
   "cell_type": "code",
   "execution_count": 34,
   "id": "1028dab0",
   "metadata": {
    "execution": {
     "iopub.execute_input": "2024-07-04T11:51:23.774199Z",
     "iopub.status.busy": "2024-07-04T11:51:23.773152Z",
     "iopub.status.idle": "2024-07-04T11:51:23.783668Z",
     "shell.execute_reply": "2024-07-04T11:51:23.782536Z"
    },
    "papermill": {
     "duration": 0.033345,
     "end_time": "2024-07-04T11:51:23.786127",
     "exception": false,
     "start_time": "2024-07-04T11:51:23.752782",
     "status": "completed"
    },
    "tags": []
   },
   "outputs": [],
   "source": [
    "y_pred_train = linear_reg.predict(X_train)\n",
    "y_pred_test = linear_reg.predict(X_test)\n",
    "\n"
   ]
  },
  {
   "cell_type": "code",
   "execution_count": 35,
   "id": "59f09b6a",
   "metadata": {
    "execution": {
     "iopub.execute_input": "2024-07-04T11:51:23.847473Z",
     "iopub.status.busy": "2024-07-04T11:51:23.847080Z",
     "iopub.status.idle": "2024-07-04T11:51:23.858140Z",
     "shell.execute_reply": "2024-07-04T11:51:23.856451Z"
    },
    "papermill": {
     "duration": 0.047253,
     "end_time": "2024-07-04T11:51:23.860982",
     "exception": false,
     "start_time": "2024-07-04T11:51:23.813729",
     "status": "completed"
    },
    "tags": []
   },
   "outputs": [
    {
     "name": "stdout",
     "output_type": "stream",
     "text": [
      "Training MSE: 0.000727005987141621\n",
      "Testing MSE: 0.0007358149864110914\n",
      "Training R2 Score: 0.9017003755671789\n",
      "Testing R2 Score: 0.9092017128425427\n"
     ]
    }
   ],
   "source": [
    "# Evaluate the model\n",
    "train_mse = mean_squared_error(y_train, y_pred_train)\n",
    "test_mse = mean_squared_error(y_test, y_pred_test)\n",
    "train_r2 = r2_score(y_train, y_pred_train)\n",
    "test_r2 = r2_score(y_test, y_pred_test)\n",
    "\n",
    "print(f\"Training MSE: {train_mse}\")\n",
    "print(f\"Testing MSE: {test_mse}\")\n",
    "print(f\"Training R2 Score: {train_r2}\")\n",
    "print(f\"Testing R2 Score: {test_r2}\")"
   ]
  },
  {
   "cell_type": "markdown",
   "id": "a8514793",
   "metadata": {
    "papermill": {
     "duration": 0.020811,
     "end_time": "2024-07-04T11:51:23.926304",
     "exception": false,
     "start_time": "2024-07-04T11:51:23.905493",
     "status": "completed"
    },
    "tags": []
   },
   "source": [
    "<div style=\"background-color: #ff0000; padding: 20px; border-radius: 10px;\">\n",
    "    <h1 style=\"text-align: left; font-size: 25px;\"> KNN </h1>\n",
    "</div>"
   ]
  },
  {
   "cell_type": "code",
   "execution_count": 36,
   "id": "3f8f4954",
   "metadata": {
    "execution": {
     "iopub.execute_input": "2024-07-04T11:51:23.966369Z",
     "iopub.status.busy": "2024-07-04T11:51:23.965968Z",
     "iopub.status.idle": "2024-07-04T11:51:24.460140Z",
     "shell.execute_reply": "2024-07-04T11:51:24.459063Z"
    },
    "papermill": {
     "duration": 0.516987,
     "end_time": "2024-07-04T11:51:24.462513",
     "exception": false,
     "start_time": "2024-07-04T11:51:23.945526",
     "status": "completed"
    },
    "tags": []
   },
   "outputs": [
    {
     "data": {
      "image/png": "[encoded data removed]",
      "text/plain": [
       "<Figure size 1000x600 with 1 Axes>"
      ]
     },
     "metadata": {},
     "output_type": "display_data"
    }
   ],
   "source": [
    "mse_values = []\n",
    "r2_values = []\n",
    "max_neighbors = 10  \n",
    "for k in range(1, max_neighbors + 1):\n",
    "    knn = KNeighborsRegressor(n_neighbors=k)\n",
    "    knn.fit(X_train, y_train)\n",
    "    y_pred = knn.predict(X_test)\n",
    "    mse = mean_squared_error(y_test, y_pred)\n",
    "    r2 = r2_score(y_test, y_pred)\n",
    "    mse_values.append(mse)\n",
    "    r2_values.append(r2)\n",
    "\n",
    "# Plotting the elbow curve\n",
    "plt.figure(figsize=(10, 6))\n",
    "plt.plot(range(1, max_neighbors + 1), mse_values, marker='o')\n",
    "plt.xlabel('Number of Neighbors (k)')\n",
    "plt.ylabel('Mean Squared Error (MSE)')\n",
    "plt.title('Elbow Method for Optimal k')\n",
    "plt.grid(True)\n",
    "plt.show()\n",
    "\n"
   ]
  },
  {
   "cell_type": "code",
   "execution_count": 37,
   "id": "fe8e2d51",
   "metadata": {
    "execution": {
     "iopub.execute_input": "2024-07-04T11:51:24.504484Z",
     "iopub.status.busy": "2024-07-04T11:51:24.504019Z",
     "iopub.status.idle": "2024-07-04T11:51:24.509999Z",
     "shell.execute_reply": "2024-07-04T11:51:24.508781Z"
    },
    "papermill": {
     "duration": 0.030148,
     "end_time": "2024-07-04T11:51:24.512743",
     "exception": false,
     "start_time": "2024-07-04T11:51:24.482595",
     "status": "completed"
    },
    "tags": []
   },
   "outputs": [
    {
     "name": "stdout",
     "output_type": "stream",
     "text": [
      "Optimal number of neighbors (k): 2\n"
     ]
    }
   ],
   "source": [
    "# Choose the optimal k based on the elbow curve (lowest MSE)\n",
    "optimal_k = mse_values.index(min(mse_values)) + 1\n",
    "print(f\"Optimal number of neighbors (k): {optimal_k}\")\n",
    "\n"
   ]
  },
  {
   "cell_type": "code",
   "execution_count": 38,
   "id": "638e88ba",
   "metadata": {
    "execution": {
     "iopub.execute_input": "2024-07-04T11:51:24.556449Z",
     "iopub.status.busy": "2024-07-04T11:51:24.555965Z",
     "iopub.status.idle": "2024-07-04T11:51:24.570786Z",
     "shell.execute_reply": "2024-07-04T11:51:24.569513Z"
    },
    "papermill": {
     "duration": 0.040769,
     "end_time": "2024-07-04T11:51:24.573663",
     "exception": false,
     "start_time": "2024-07-04T11:51:24.532894",
     "status": "completed"
    },
    "tags": []
   },
   "outputs": [
    {
     "data": {
      "text/html": [
       "<style>#sk-container-id-2 {color: black;background-color: white;}#sk-container-id-2 pre{padding: 0;}#sk-container-id-2 div.sk-toggleable {background-color: white;}#sk-container-id-2 label.sk-toggleable__label {cursor: pointer;display: block;width: 100%;margin-bottom: 0;padding: 0.3em;box-sizing: border-box;text-align: center;}#sk-container-id-2 label.sk-toggleable__label-arrow:before {content: \"▸\";float: left;margin-right: 0.25em;color: #696969;}#sk-container-id-2 label.sk-toggleable__label-arrow:hover:before {color: black;}#sk-container-id-2 div.sk-estimator:hover label.sk-toggleable__label-arrow:before {color: black;}#sk-container-id-2 div.sk-toggleable__content {max-height: 0;max-width: 0;overflow: hidden;text-align: left;background-color: #f0f8ff;}#sk-container-id-2 div.sk-toggleable__content pre {margin: 0.2em;color: black;border-radius: 0.25em;background-color: #f0f8ff;}#sk-container-id-2 input.sk-toggleable__control:checked~div.sk-toggleable__content {max-height: 200px;max-width: 100%;overflow: auto;}#sk-container-id-2 input.sk-toggleable__control:checked~label.sk-toggleable__label-arrow:before {content: \"▾\";}#sk-container-id-2 div.sk-estimator input.sk-toggleable__control:checked~label.sk-toggleable__label {background-color: #d4ebff;}#sk-container-id-2 div.sk-label input.sk-toggleable__control:checked~label.sk-toggleable__label {background-color: #d4ebff;}#sk-container-id-2 input.sk-hidden--visually {border: 0;clip: rect(1px 1px 1px 1px);clip: rect(1px, 1px, 1px, 1px);height: 1px;margin: -1px;overflow: hidden;padding: 0;position: absolute;width: 1px;}#sk-container-id-2 div.sk-estimator {font-family: monospace;background-color: #f0f8ff;border: 1px dotted black;border-radius: 0.25em;box-sizing: border-box;margin-bottom: 0.5em;}#sk-container-id-2 div.sk-estimator:hover {background-color: #d4ebff;}#sk-container-id-2 div.sk-parallel-item::after {content: \"\";width: 100%;border-bottom: 1px solid gray;flex-grow: 1;}#sk-container-id-2 div.sk-label:hover label.sk-toggleable__label {background-color: #d4ebff;}#sk-container-id-2 div.sk-serial::before {content: \"\";position: absolute;border-left: 1px solid gray;box-sizing: border-box;top: 0;bottom: 0;left: 50%;z-index: 0;}#sk-container-id-2 div.sk-serial {display: flex;flex-direction: column;align-items: center;background-color: white;padding-right: 0.2em;padding-left: 0.2em;position: relative;}#sk-container-id-2 div.sk-item {position: relative;z-index: 1;}#sk-container-id-2 div.sk-parallel {display: flex;align-items: stretch;justify-content: center;background-color: white;position: relative;}#sk-container-id-2 div.sk-item::before, #sk-container-id-2 div.sk-parallel-item::before {content: \"\";position: absolute;border-left: 1px solid gray;box-sizing: border-box;top: 0;bottom: 0;left: 50%;z-index: -1;}#sk-container-id-2 div.sk-parallel-item {display: flex;flex-direction: column;z-index: 1;position: relative;background-color: white;}#sk-container-id-2 div.sk-parallel-item:first-child::after {align-self: flex-end;width: 50%;}#sk-container-id-2 div.sk-parallel-item:last-child::after {align-self: flex-start;width: 50%;}#sk-container-id-2 div.sk-parallel-item:only-child::after {width: 0;}#sk-container-id-2 div.sk-dashed-wrapped {border: 1px dashed gray;margin: 0 0.4em 0.5em 0.4em;box-sizing: border-box;padding-bottom: 0.4em;background-color: white;}#sk-container-id-2 div.sk-label label {font-family: monospace;font-weight: bold;display: inline-block;line-height: 1.2em;}#sk-container-id-2 div.sk-label-container {text-align: center;}#sk-container-id-2 div.sk-container {/* jupyter's `normalize.less` sets `[hidden] { display: none; }` but bootstrap.min.css set `[hidden] { display: none !important; }` so we also need the `!important` here to be able to override the default hidden behavior on the sphinx rendered scikit-learn.org. See: https://github.com/scikit-learn/scikit-learn/issues/21755 */display: inline-block !important;position: relative;}#sk-container-id-2 div.sk-text-repr-fallback {display: none;}</style><div id=\"sk-container-id-2\" class=\"sk-top-container\"><div class=\"sk-text-repr-fallback\"><pre>KNeighborsRegressor(n_neighbors=2)</pre><b>In a Jupyter environment, please rerun this cell to show the HTML representation or trust the notebook. <br />On GitHub, the HTML representation is unable to render, please try loading this page with nbviewer.org.</b></div><div class=\"sk-container\" hidden><div class=\"sk-item\"><div class=\"sk-estimator sk-toggleable\"><input class=\"sk-toggleable__control sk-hidden--visually\" id=\"sk-estimator-id-2\" type=\"checkbox\" checked><label for=\"sk-estimator-id-2\" class=\"sk-toggleable__label sk-toggleable__label-arrow\">KNeighborsRegressor</label><div class=\"sk-toggleable__content\"><pre>KNeighborsRegressor(n_neighbors=2)</pre></div></div></div></div></div>"
      ],
      "text/plain": [
       "KNeighborsRegressor(n_neighbors=2)"
      ]
     },
     "execution_count": 38,
     "metadata": {},
     "output_type": "execute_result"
    }
   ],
   "source": [
    "# Train the KNN model with the optimal k\n",
    "knn = KNeighborsRegressor(n_neighbors=optimal_k)\n",
    "knn.fit(X_train, y_train)\n",
    "\n"
   ]
  },
  {
   "cell_type": "code",
   "execution_count": 39,
   "id": "2b367ee7",
   "metadata": {
    "execution": {
     "iopub.execute_input": "2024-07-04T11:51:24.620956Z",
     "iopub.status.busy": "2024-07-04T11:51:24.619704Z",
     "iopub.status.idle": "2024-07-04T11:51:24.671393Z",
     "shell.execute_reply": "2024-07-04T11:51:24.670222Z"
    },
    "papermill": {
     "duration": 0.078432,
     "end_time": "2024-07-04T11:51:24.673801",
     "exception": false,
     "start_time": "2024-07-04T11:51:24.595369",
     "status": "completed"
    },
    "tags": []
   },
   "outputs": [],
   "source": [
    "# Evaluate the model\n",
    "y_pred_train = knn.predict(X_train)\n",
    "y_pred_test = knn.predict(X_test)\n",
    "\n"
   ]
  },
  {
   "cell_type": "code",
   "execution_count": 40,
   "id": "65255a46",
   "metadata": {
    "execution": {
     "iopub.execute_input": "2024-07-04T11:51:24.717068Z",
     "iopub.status.busy": "2024-07-04T11:51:24.716664Z",
     "iopub.status.idle": "2024-07-04T11:51:24.726455Z",
     "shell.execute_reply": "2024-07-04T11:51:24.725258Z"
    },
    "papermill": {
     "duration": 0.033994,
     "end_time": "2024-07-04T11:51:24.728819",
     "exception": false,
     "start_time": "2024-07-04T11:51:24.694825",
     "status": "completed"
    },
    "tags": []
   },
   "outputs": [
    {
     "name": "stdout",
     "output_type": "stream",
     "text": [
      "Training MSE: 2.2855902710489828e-05\n",
      "Testing MSE: 0.0001548152132319399\n",
      "Training R2 Score: 0.9969096174003357\n",
      "Testing R2 Score: 0.9808960724543829\n"
     ]
    }
   ],
   "source": [
    "train_mse = mean_squared_error(y_train, y_pred_train)\n",
    "test_mse = mean_squared_error(y_test, y_pred_test)\n",
    "train_r2 = r2_score(y_train, y_pred_train)\n",
    "test_r2 = r2_score(y_test, y_pred_test)\n",
    "\n",
    "print(f\"Training MSE: {train_mse}\")\n",
    "print(f\"Testing MSE: {test_mse}\")\n",
    "print(f\"Training R2 Score: {train_r2}\")\n",
    "print(f\"Testing R2 Score: {test_r2}\")"
   ]
  },
  {
   "cell_type": "markdown",
   "id": "dcb5f06f",
   "metadata": {
    "papermill": {
     "duration": 0.020062,
     "end_time": "2024-07-04T11:51:24.769192",
     "exception": false,
     "start_time": "2024-07-04T11:51:24.749130",
     "status": "completed"
    },
    "tags": []
   },
   "source": [
    "<div style=\"background-color: #ff0000; padding: 20px; border-radius: 10px;\">\n",
    "    <h1 style=\"text-align: left; font-size: 25px;\"> DecisionTreeRegressor </h1>\n",
    "</div>"
   ]
  },
  {
   "cell_type": "code",
   "execution_count": 41,
   "id": "1bba5c2e",
   "metadata": {
    "execution": {
     "iopub.execute_input": "2024-07-04T11:51:24.812054Z",
     "iopub.status.busy": "2024-07-04T11:51:24.811093Z",
     "iopub.status.idle": "2024-07-04T11:51:27.523334Z",
     "shell.execute_reply": "2024-07-04T11:51:27.521813Z"
    },
    "papermill": {
     "duration": 2.736921,
     "end_time": "2024-07-04T11:51:27.526517",
     "exception": false,
     "start_time": "2024-07-04T11:51:24.789596",
     "status": "completed"
    },
    "tags": []
   },
   "outputs": [
    {
     "name": "stdout",
     "output_type": "stream",
     "text": [
      "Fitting 5 folds for each of 36 candidates, totalling 180 fits\n"
     ]
    },
    {
     "data": {
      "text/html": [
       "<style>#sk-container-id-3 {color: black;background-color: white;}#sk-container-id-3 pre{padding: 0;}#sk-container-id-3 div.sk-toggleable {background-color: white;}#sk-container-id-3 label.sk-toggleable__label {cursor: pointer;display: block;width: 100%;margin-bottom: 0;padding: 0.3em;box-sizing: border-box;text-align: center;}#sk-container-id-3 label.sk-toggleable__label-arrow:before {content: \"▸\";float: left;margin-right: 0.25em;color: #696969;}#sk-container-id-3 label.sk-toggleable__label-arrow:hover:before {color: black;}#sk-container-id-3 div.sk-estimator:hover label.sk-toggleable__label-arrow:before {color: black;}#sk-container-id-3 div.sk-toggleable__content {max-height: 0;max-width: 0;overflow: hidden;text-align: left;background-color: #f0f8ff;}#sk-container-id-3 div.sk-toggleable__content pre {margin: 0.2em;color: black;border-radius: 0.25em;background-color: #f0f8ff;}#sk-container-id-3 input.sk-toggleable__control:checked~div.sk-toggleable__content {max-height: 200px;max-width: 100%;overflow: auto;}#sk-container-id-3 input.sk-toggleable__control:checked~label.sk-toggleable__label-arrow:before {content: \"▾\";}#sk-container-id-3 div.sk-estimator input.sk-toggleable__control:checked~label.sk-toggleable__label {background-color: #d4ebff;}#sk-container-id-3 div.sk-label input.sk-toggleable__control:checked~label.sk-toggleable__label {background-color: #d4ebff;}#sk-container-id-3 input.sk-hidden--visually {border: 0;clip: rect(1px 1px 1px 1px);clip: rect(1px, 1px, 1px, 1px);height: 1px;margin: -1px;overflow: hidden;padding: 0;position: absolute;width: 1px;}#sk-container-id-3 div.sk-estimator {font-family: monospace;background-color: #f0f8ff;border: 1px dotted black;border-radius: 0.25em;box-sizing: border-box;margin-bottom: 0.5em;}#sk-container-id-3 div.sk-estimator:hover {background-color: #d4ebff;}#sk-container-id-3 div.sk-parallel-item::after {content: \"\";width: 100%;border-bottom: 1px solid gray;flex-grow: 1;}#sk-container-id-3 div.sk-label:hover label.sk-toggleable__label {background-color: #d4ebff;}#sk-container-id-3 div.sk-serial::before {content: \"\";position: absolute;border-left: 1px solid gray;box-sizing: border-box;top: 0;bottom: 0;left: 50%;z-index: 0;}#sk-container-id-3 div.sk-serial {display: flex;flex-direction: column;align-items: center;background-color: white;padding-right: 0.2em;padding-left: 0.2em;position: relative;}#sk-container-id-3 div.sk-item {position: relative;z-index: 1;}#sk-container-id-3 div.sk-parallel {display: flex;align-items: stretch;justify-content: center;background-color: white;position: relative;}#sk-container-id-3 div.sk-item::before, #sk-container-id-3 div.sk-parallel-item::before {content: \"\";position: absolute;border-left: 1px solid gray;box-sizing: border-box;top: 0;bottom: 0;left: 50%;z-index: -1;}#sk-container-id-3 div.sk-parallel-item {display: flex;flex-direction: column;z-index: 1;position: relative;background-color: white;}#sk-container-id-3 div.sk-parallel-item:first-child::after {align-self: flex-end;width: 50%;}#sk-container-id-3 div.sk-parallel-item:last-child::after {align-self: flex-start;width: 50%;}#sk-container-id-3 div.sk-parallel-item:only-child::after {width: 0;}#sk-container-id-3 div.sk-dashed-wrapped {border: 1px dashed gray;margin: 0 0.4em 0.5em 0.4em;box-sizing: border-box;padding-bottom: 0.4em;background-color: white;}#sk-container-id-3 div.sk-label label {font-family: monospace;font-weight: bold;display: inline-block;line-height: 1.2em;}#sk-container-id-3 div.sk-label-container {text-align: center;}#sk-container-id-3 div.sk-container {/* jupyter's `normalize.less` sets `[hidden] { display: none; }` but bootstrap.min.css set `[hidden] { display: none !important; }` so we also need the `!important` here to be able to override the default hidden behavior on the sphinx rendered scikit-learn.org. See: https://github.com/scikit-learn/scikit-learn/issues/21755 */display: inline-block !important;position: relative;}#sk-container-id-3 div.sk-text-repr-fallback {display: none;}</style><div id=\"sk-container-id-3\" class=\"sk-top-container\"><div class=\"sk-text-repr-fallback\"><pre>GridSearchCV(cv=5, estimator=DecisionTreeRegressor(random_state=42), n_jobs=-1,\n",
       "             param_grid={&#x27;max_depth&#x27;: [3, 5, 7, 9],\n",
       "                         &#x27;min_samples_leaf&#x27;: [1, 2, 4],\n",
       "                         &#x27;min_samples_split&#x27;: [2, 5, 10]},\n",
       "             scoring=&#x27;neg_mean_squared_error&#x27;, verbose=1)</pre><b>In a Jupyter environment, please rerun this cell to show the HTML representation or trust the notebook. <br />On GitHub, the HTML representation is unable to render, please try loading this page with nbviewer.org.</b></div><div class=\"sk-container\" hidden><div class=\"sk-item sk-dashed-wrapped\"><div class=\"sk-label-container\"><div class=\"sk-label sk-toggleable\"><input class=\"sk-toggleable__control sk-hidden--visually\" id=\"sk-estimator-id-3\" type=\"checkbox\" ><label for=\"sk-estimator-id-3\" class=\"sk-toggleable__label sk-toggleable__label-arrow\">GridSearchCV</label><div class=\"sk-toggleable__content\"><pre>GridSearchCV(cv=5, estimator=DecisionTreeRegressor(random_state=42), n_jobs=-1,\n",
       "             param_grid={&#x27;max_depth&#x27;: [3, 5, 7, 9],\n",
       "                         &#x27;min_samples_leaf&#x27;: [1, 2, 4],\n",
       "                         &#x27;min_samples_split&#x27;: [2, 5, 10]},\n",
       "             scoring=&#x27;neg_mean_squared_error&#x27;, verbose=1)</pre></div></div></div><div class=\"sk-parallel\"><div class=\"sk-parallel-item\"><div class=\"sk-item\"><div class=\"sk-label-container\"><div class=\"sk-label sk-toggleable\"><input class=\"sk-toggleable__control sk-hidden--visually\" id=\"sk-estimator-id-4\" type=\"checkbox\" ><label for=\"sk-estimator-id-4\" class=\"sk-toggleable__label sk-toggleable__label-arrow\">estimator: DecisionTreeRegressor</label><div class=\"sk-toggleable__content\"><pre>DecisionTreeRegressor(random_state=42)</pre></div></div></div><div class=\"sk-serial\"><div class=\"sk-item\"><div class=\"sk-estimator sk-toggleable\"><input class=\"sk-toggleable__control sk-hidden--visually\" id=\"sk-estimator-id-5\" type=\"checkbox\" ><label for=\"sk-estimator-id-5\" class=\"sk-toggleable__label sk-toggleable__label-arrow\">DecisionTreeRegressor</label><div class=\"sk-toggleable__content\"><pre>DecisionTreeRegressor(random_state=42)</pre></div></div></div></div></div></div></div></div></div></div>"
      ],
      "text/plain": [
       "GridSearchCV(cv=5, estimator=DecisionTreeRegressor(random_state=42), n_jobs=-1,\n",
       "             param_grid={'max_depth': [3, 5, 7, 9],\n",
       "                         'min_samples_leaf': [1, 2, 4],\n",
       "                         'min_samples_split': [2, 5, 10]},\n",
       "             scoring='neg_mean_squared_error', verbose=1)"
      ]
     },
     "execution_count": 41,
     "metadata": {},
     "output_type": "execute_result"
    }
   ],
   "source": [
    "from sklearn.model_selection import train_test_split, GridSearchCV\n",
    "from sklearn.tree import DecisionTreeRegressor, export_graphviz\n",
    "\n",
    "# Define the hyperparameters grid\n",
    "param_grid = {\n",
    "    'max_depth': [3, 5, 7, 9],\n",
    "    'min_samples_split': [2, 5, 10],\n",
    "    'min_samples_leaf': [1, 2, 4]\n",
    "}\n",
    "\n",
    "# Initialize the Decision Tree model\n",
    "dt_regressor = DecisionTreeRegressor(random_state=42)\n",
    "\n",
    "# Initialize GridSearchCV with cross-validation\n",
    "grid_search = GridSearchCV(estimator=dt_regressor, param_grid=param_grid, cv=5, scoring='neg_mean_squared_error', verbose=1, n_jobs=-1)\n",
    "\n",
    "# Fit the model with hyperparameter tuning\n",
    "grid_search.fit(X_train, y_train)\n",
    "\n"
   ]
  },
  {
   "cell_type": "code",
   "execution_count": 42,
   "id": "56dd2cab",
   "metadata": {
    "execution": {
     "iopub.execute_input": "2024-07-04T11:51:27.571748Z",
     "iopub.status.busy": "2024-07-04T11:51:27.571321Z",
     "iopub.status.idle": "2024-07-04T11:51:27.590832Z",
     "shell.execute_reply": "2024-07-04T11:51:27.589481Z"
    },
    "papermill": {
     "duration": 0.045199,
     "end_time": "2024-07-04T11:51:27.593640",
     "exception": false,
     "start_time": "2024-07-04T11:51:27.548441",
     "status": "completed"
    },
    "tags": []
   },
   "outputs": [
    {
     "name": "stdout",
     "output_type": "stream",
     "text": [
      "Best Hyperparameters: {'max_depth': 9, 'min_samples_leaf': 2, 'min_samples_split': 2}\n"
     ]
    },
    {
     "data": {
      "text/html": [
       "<style>#sk-container-id-4 {color: black;background-color: white;}#sk-container-id-4 pre{padding: 0;}#sk-container-id-4 div.sk-toggleable {background-color: white;}#sk-container-id-4 label.sk-toggleable__label {cursor: pointer;display: block;width: 100%;margin-bottom: 0;padding: 0.3em;box-sizing: border-box;text-align: center;}#sk-container-id-4 label.sk-toggleable__label-arrow:before {content: \"▸\";float: left;margin-right: 0.25em;color: #696969;}#sk-container-id-4 label.sk-toggleable__label-arrow:hover:before {color: black;}#sk-container-id-4 div.sk-estimator:hover label.sk-toggleable__label-arrow:before {color: black;}#sk-container-id-4 div.sk-toggleable__content {max-height: 0;max-width: 0;overflow: hidden;text-align: left;background-color: #f0f8ff;}#sk-container-id-4 div.sk-toggleable__content pre {margin: 0.2em;color: black;border-radius: 0.25em;background-color: #f0f8ff;}#sk-container-id-4 input.sk-toggleable__control:checked~div.sk-toggleable__content {max-height: 200px;max-width: 100%;overflow: auto;}#sk-container-id-4 input.sk-toggleable__control:checked~label.sk-toggleable__label-arrow:before {content: \"▾\";}#sk-container-id-4 div.sk-estimator input.sk-toggleable__control:checked~label.sk-toggleable__label {background-color: #d4ebff;}#sk-container-id-4 div.sk-label input.sk-toggleable__control:checked~label.sk-toggleable__label {background-color: #d4ebff;}#sk-container-id-4 input.sk-hidden--visually {border: 0;clip: rect(1px 1px 1px 1px);clip: rect(1px, 1px, 1px, 1px);height: 1px;margin: -1px;overflow: hidden;padding: 0;position: absolute;width: 1px;}#sk-container-id-4 div.sk-estimator {font-family: monospace;background-color: #f0f8ff;border: 1px dotted black;border-radius: 0.25em;box-sizing: border-box;margin-bottom: 0.5em;}#sk-container-id-4 div.sk-estimator:hover {background-color: #d4ebff;}#sk-container-id-4 div.sk-parallel-item::after {content: \"\";width: 100%;border-bottom: 1px solid gray;flex-grow: 1;}#sk-container-id-4 div.sk-label:hover label.sk-toggleable__label {background-color: #d4ebff;}#sk-container-id-4 div.sk-serial::before {content: \"\";position: absolute;border-left: 1px solid gray;box-sizing: border-box;top: 0;bottom: 0;left: 50%;z-index: 0;}#sk-container-id-4 div.sk-serial {display: flex;flex-direction: column;align-items: center;background-color: white;padding-right: 0.2em;padding-left: 0.2em;position: relative;}#sk-container-id-4 div.sk-item {position: relative;z-index: 1;}#sk-container-id-4 div.sk-parallel {display: flex;align-items: stretch;justify-content: center;background-color: white;position: relative;}#sk-container-id-4 div.sk-item::before, #sk-container-id-4 div.sk-parallel-item::before {content: \"\";position: absolute;border-left: 1px solid gray;box-sizing: border-box;top: 0;bottom: 0;left: 50%;z-index: -1;}#sk-container-id-4 div.sk-parallel-item {display: flex;flex-direction: column;z-index: 1;position: relative;background-color: white;}#sk-container-id-4 div.sk-parallel-item:first-child::after {align-self: flex-end;width: 50%;}#sk-container-id-4 div.sk-parallel-item:last-child::after {align-self: flex-start;width: 50%;}#sk-container-id-4 div.sk-parallel-item:only-child::after {width: 0;}#sk-container-id-4 div.sk-dashed-wrapped {border: 1px dashed gray;margin: 0 0.4em 0.5em 0.4em;box-sizing: border-box;padding-bottom: 0.4em;background-color: white;}#sk-container-id-4 div.sk-label label {font-family: monospace;font-weight: bold;display: inline-block;line-height: 1.2em;}#sk-container-id-4 div.sk-label-container {text-align: center;}#sk-container-id-4 div.sk-container {/* jupyter's `normalize.less` sets `[hidden] { display: none; }` but bootstrap.min.css set `[hidden] { display: none !important; }` so we also need the `!important` here to be able to override the default hidden behavior on the sphinx rendered scikit-learn.org. See: https://github.com/scikit-learn/scikit-learn/issues/21755 */display: inline-block !important;position: relative;}#sk-container-id-4 div.sk-text-repr-fallback {display: none;}</style><div id=\"sk-container-id-4\" class=\"sk-top-container\"><div class=\"sk-text-repr-fallback\"><pre>DecisionTreeRegressor(max_depth=9, min_samples_leaf=2)</pre><b>In a Jupyter environment, please rerun this cell to show the HTML representation or trust the notebook. <br />On GitHub, the HTML representation is unable to render, please try loading this page with nbviewer.org.</b></div><div class=\"sk-container\" hidden><div class=\"sk-item\"><div class=\"sk-estimator sk-toggleable\"><input class=\"sk-toggleable__control sk-hidden--visually\" id=\"sk-estimator-id-6\" type=\"checkbox\" checked><label for=\"sk-estimator-id-6\" class=\"sk-toggleable__label sk-toggleable__label-arrow\">DecisionTreeRegressor</label><div class=\"sk-toggleable__content\"><pre>DecisionTreeRegressor(max_depth=9, min_samples_leaf=2)</pre></div></div></div></div></div>"
      ],
      "text/plain": [
       "DecisionTreeRegressor(max_depth=9, min_samples_leaf=2)"
      ]
     },
     "execution_count": 42,
     "metadata": {},
     "output_type": "execute_result"
    }
   ],
   "source": [
    "# Get the best hyperparameters\n",
    "best_params = grid_search.best_params_\n",
    "print(\"Best Hyperparameters:\", best_params)\n",
    "\n",
    "# Train the Decision Tree model with the best hyperparameters\n",
    "best_dt_regressor = DecisionTreeRegressor(**best_params)\n",
    "best_dt_regressor.fit(X_train, y_train)\n",
    "\n",
    "\n"
   ]
  },
  {
   "cell_type": "code",
   "execution_count": 43,
   "id": "519ae928",
   "metadata": {
    "execution": {
     "iopub.execute_input": "2024-07-04T11:51:27.645041Z",
     "iopub.status.busy": "2024-07-04T11:51:27.644658Z",
     "iopub.status.idle": "2024-07-04T11:51:27.654176Z",
     "shell.execute_reply": "2024-07-04T11:51:27.653042Z"
    },
    "papermill": {
     "duration": 0.03662,
     "end_time": "2024-07-04T11:51:27.656751",
     "exception": false,
     "start_time": "2024-07-04T11:51:27.620131",
     "status": "completed"
    },
    "tags": []
   },
   "outputs": [],
   "source": [
    "# Make predictions\n",
    "y_pred_train = best_dt_regressor.predict(X_train)\n",
    "y_pred_test = best_dt_regressor.predict(X_test)\n",
    "\n"
   ]
  },
  {
   "cell_type": "code",
   "execution_count": 44,
   "id": "50825409",
   "metadata": {
    "execution": {
     "iopub.execute_input": "2024-07-04T11:51:27.700809Z",
     "iopub.status.busy": "2024-07-04T11:51:27.700405Z",
     "iopub.status.idle": "2024-07-04T11:51:27.712001Z",
     "shell.execute_reply": "2024-07-04T11:51:27.710557Z"
    },
    "papermill": {
     "duration": 0.036849,
     "end_time": "2024-07-04T11:51:27.714464",
     "exception": false,
     "start_time": "2024-07-04T11:51:27.677615",
     "status": "completed"
    },
    "tags": []
   },
   "outputs": [
    {
     "name": "stdout",
     "output_type": "stream",
     "text": [
      "Training MSE: 1.4237077499880363e-05\n",
      "Testing MSE: 0.00015336553511470546\n",
      "Training R2 Score: 0.9980749823302534\n",
      "Testing R2 Score: 0.9810749602079697\n"
     ]
    }
   ],
   "source": [
    "# Evaluate the model\n",
    "train_mse = mean_squared_error(y_train, y_pred_train)\n",
    "test_mse = mean_squared_error(y_test, y_pred_test)\n",
    "train_r2 = r2_score(y_train, y_pred_train)\n",
    "test_r2 = r2_score(y_test, y_pred_test)\n",
    "\n",
    "print(f\"Training MSE: {train_mse}\")\n",
    "print(f\"Testing MSE: {test_mse}\")\n",
    "print(f\"Training R2 Score: {train_r2}\")\n",
    "print(f\"Testing R2 Score: {test_r2}\")\n",
    "\n"
   ]
  },
  {
   "cell_type": "markdown",
   "id": "4f55cbd4",
   "metadata": {
    "papermill": {
     "duration": 0.021075,
     "end_time": "2024-07-04T11:51:27.756431",
     "exception": false,
     "start_time": "2024-07-04T11:51:27.735356",
     "status": "completed"
    },
    "tags": []
   },
   "source": [
    "<div style=\"background-color: #ff0000; padding: 20px; border-radius: 10px;\">\n",
    "    <h1 style=\"text-align: left; font-size: 25px;\"> RandomForestRegressor </h1>\n",
    "</div>"
   ]
  },
  {
   "cell_type": "code",
   "execution_count": 45,
   "id": "73ad76a5",
   "metadata": {
    "execution": {
     "iopub.execute_input": "2024-07-04T11:51:27.801130Z",
     "iopub.status.busy": "2024-07-04T11:51:27.800737Z",
     "iopub.status.idle": "2024-07-04T11:54:19.410805Z",
     "shell.execute_reply": "2024-07-04T11:54:19.409703Z"
    },
    "papermill": {
     "duration": 171.656318,
     "end_time": "2024-07-04T11:54:19.434518",
     "exception": false,
     "start_time": "2024-07-04T11:51:27.778200",
     "status": "completed"
    },
    "tags": []
   },
   "outputs": [
    {
     "name": "stdout",
     "output_type": "stream",
     "text": [
      "Fitting 5 folds for each of 81 candidates, totalling 405 fits\n"
     ]
    },
    {
     "data": {
      "text/html": [
       "<style>#sk-container-id-5 {color: black;background-color: white;}#sk-container-id-5 pre{padding: 0;}#sk-container-id-5 div.sk-toggleable {background-color: white;}#sk-container-id-5 label.sk-toggleable__label {cursor: pointer;display: block;width: 100%;margin-bottom: 0;padding: 0.3em;box-sizing: border-box;text-align: center;}#sk-container-id-5 label.sk-toggleable__label-arrow:before {content: \"▸\";float: left;margin-right: 0.25em;color: #696969;}#sk-container-id-5 label.sk-toggleable__label-arrow:hover:before {color: black;}#sk-container-id-5 div.sk-estimator:hover label.sk-toggleable__label-arrow:before {color: black;}#sk-container-id-5 div.sk-toggleable__content {max-height: 0;max-width: 0;overflow: hidden;text-align: left;background-color: #f0f8ff;}#sk-container-id-5 div.sk-toggleable__content pre {margin: 0.2em;color: black;border-radius: 0.25em;background-color: #f0f8ff;}#sk-container-id-5 input.sk-toggleable__control:checked~div.sk-toggleable__content {max-height: 200px;max-width: 100%;overflow: auto;}#sk-container-id-5 input.sk-toggleable__control:checked~label.sk-toggleable__label-arrow:before {content: \"▾\";}#sk-container-id-5 div.sk-estimator input.sk-toggleable__control:checked~label.sk-toggleable__label {background-color: #d4ebff;}#sk-container-id-5 div.sk-label input.sk-toggleable__control:checked~label.sk-toggleable__label {background-color: #d4ebff;}#sk-container-id-5 input.sk-hidden--visually {border: 0;clip: rect(1px 1px 1px 1px);clip: rect(1px, 1px, 1px, 1px);height: 1px;margin: -1px;overflow: hidden;padding: 0;position: absolute;width: 1px;}#sk-container-id-5 div.sk-estimator {font-family: monospace;background-color: #f0f8ff;border: 1px dotted black;border-radius: 0.25em;box-sizing: border-box;margin-bottom: 0.5em;}#sk-container-id-5 div.sk-estimator:hover {background-color: #d4ebff;}#sk-container-id-5 div.sk-parallel-item::after {content: \"\";width: 100%;border-bottom: 1px solid gray;flex-grow: 1;}#sk-container-id-5 div.sk-label:hover label.sk-toggleable__label {background-color: #d4ebff;}#sk-container-id-5 div.sk-serial::before {content: \"\";position: absolute;border-left: 1px solid gray;box-sizing: border-box;top: 0;bottom: 0;left: 50%;z-index: 0;}#sk-container-id-5 div.sk-serial {display: flex;flex-direction: column;align-items: center;background-color: white;padding-right: 0.2em;padding-left: 0.2em;position: relative;}#sk-container-id-5 div.sk-item {position: relative;z-index: 1;}#sk-container-id-5 div.sk-parallel {display: flex;align-items: stretch;justify-content: center;background-color: white;position: relative;}#sk-container-id-5 div.sk-item::before, #sk-container-id-5 div.sk-parallel-item::before {content: \"\";position: absolute;border-left: 1px solid gray;box-sizing: border-box;top: 0;bottom: 0;left: 50%;z-index: -1;}#sk-container-id-5 div.sk-parallel-item {display: flex;flex-direction: column;z-index: 1;position: relative;background-color: white;}#sk-container-id-5 div.sk-parallel-item:first-child::after {align-self: flex-end;width: 50%;}#sk-container-id-5 div.sk-parallel-item:last-child::after {align-self: flex-start;width: 50%;}#sk-container-id-5 div.sk-parallel-item:only-child::after {width: 0;}#sk-container-id-5 div.sk-dashed-wrapped {border: 1px dashed gray;margin: 0 0.4em 0.5em 0.4em;box-sizing: border-box;padding-bottom: 0.4em;background-color: white;}#sk-container-id-5 div.sk-label label {font-family: monospace;font-weight: bold;display: inline-block;line-height: 1.2em;}#sk-container-id-5 div.sk-label-container {text-align: center;}#sk-container-id-5 div.sk-container {/* jupyter's `normalize.less` sets `[hidden] { display: none; }` but bootstrap.min.css set `[hidden] { display: none !important; }` so we also need the `!important` here to be able to override the default hidden behavior on the sphinx rendered scikit-learn.org. See: https://github.com/scikit-learn/scikit-learn/issues/21755 */display: inline-block !important;position: relative;}#sk-container-id-5 div.sk-text-repr-fallback {display: none;}</style><div id=\"sk-container-id-5\" class=\"sk-top-container\"><div class=\"sk-text-repr-fallback\"><pre>GridSearchCV(cv=5, estimator=RandomForestRegressor(random_state=42), n_jobs=-1,\n",
       "             param_grid={&#x27;max_depth&#x27;: [None, 5, 10],\n",
       "                         &#x27;min_samples_leaf&#x27;: [1, 2, 4],\n",
       "                         &#x27;min_samples_split&#x27;: [2, 5, 10],\n",
       "                         &#x27;n_estimators&#x27;: [100, 200, 300]},\n",
       "             scoring=&#x27;neg_mean_squared_error&#x27;, verbose=1)</pre><b>In a Jupyter environment, please rerun this cell to show the HTML representation or trust the notebook. <br />On GitHub, the HTML representation is unable to render, please try loading this page with nbviewer.org.</b></div><div class=\"sk-container\" hidden><div class=\"sk-item sk-dashed-wrapped\"><div class=\"sk-label-container\"><div class=\"sk-label sk-toggleable\"><input class=\"sk-toggleable__control sk-hidden--visually\" id=\"sk-estimator-id-7\" type=\"checkbox\" ><label for=\"sk-estimator-id-7\" class=\"sk-toggleable__label sk-toggleable__label-arrow\">GridSearchCV</label><div class=\"sk-toggleable__content\"><pre>GridSearchCV(cv=5, estimator=RandomForestRegressor(random_state=42), n_jobs=-1,\n",
       "             param_grid={&#x27;max_depth&#x27;: [None, 5, 10],\n",
       "                         &#x27;min_samples_leaf&#x27;: [1, 2, 4],\n",
       "                         &#x27;min_samples_split&#x27;: [2, 5, 10],\n",
       "                         &#x27;n_estimators&#x27;: [100, 200, 300]},\n",
       "             scoring=&#x27;neg_mean_squared_error&#x27;, verbose=1)</pre></div></div></div><div class=\"sk-parallel\"><div class=\"sk-parallel-item\"><div class=\"sk-item\"><div class=\"sk-label-container\"><div class=\"sk-label sk-toggleable\"><input class=\"sk-toggleable__control sk-hidden--visually\" id=\"sk-estimator-id-8\" type=\"checkbox\" ><label for=\"sk-estimator-id-8\" class=\"sk-toggleable__label sk-toggleable__label-arrow\">estimator: RandomForestRegressor</label><div class=\"sk-toggleable__content\"><pre>RandomForestRegressor(random_state=42)</pre></div></div></div><div class=\"sk-serial\"><div class=\"sk-item\"><div class=\"sk-estimator sk-toggleable\"><input class=\"sk-toggleable__control sk-hidden--visually\" id=\"sk-estimator-id-9\" type=\"checkbox\" ><label for=\"sk-estimator-id-9\" class=\"sk-toggleable__label sk-toggleable__label-arrow\">RandomForestRegressor</label><div class=\"sk-toggleable__content\"><pre>RandomForestRegressor(random_state=42)</pre></div></div></div></div></div></div></div></div></div></div>"
      ],
      "text/plain": [
       "GridSearchCV(cv=5, estimator=RandomForestRegressor(random_state=42), n_jobs=-1,\n",
       "             param_grid={'max_depth': [None, 5, 10],\n",
       "                         'min_samples_leaf': [1, 2, 4],\n",
       "                         'min_samples_split': [2, 5, 10],\n",
       "                         'n_estimators': [100, 200, 300]},\n",
       "             scoring='neg_mean_squared_error', verbose=1)"
      ]
     },
     "execution_count": 45,
     "metadata": {},
     "output_type": "execute_result"
    }
   ],
   "source": [
    "\n",
    "from sklearn.ensemble import RandomForestRegressor\n",
    "param_grid = {\n",
    "    'n_estimators': [100, 200, 300],\n",
    "    'max_depth': [None, 5, 10],\n",
    "    'min_samples_split': [2, 5, 10],\n",
    "    'min_samples_leaf': [1, 2, 4]\n",
    "}\n",
    "\n",
    "# Initialize the Random Forest model\n",
    "rf_regressor = RandomForestRegressor(random_state=42)\n",
    "\n",
    "# Initialize GridSearchCV with cross-validation\n",
    "grid_search = GridSearchCV(estimator=rf_regressor, param_grid=param_grid, cv=5, scoring='neg_mean_squared_error', verbose=1, n_jobs=-1)\n",
    "\n",
    "# Fit the model with hyperparameter tuning\n",
    "grid_search.fit(X_train, y_train)\n",
    "\n",
    "\n"
   ]
  },
  {
   "cell_type": "code",
   "execution_count": 46,
   "id": "658d7322",
   "metadata": {
    "execution": {
     "iopub.execute_input": "2024-07-04T11:54:19.479469Z",
     "iopub.status.busy": "2024-07-04T11:54:19.478461Z",
     "iopub.status.idle": "2024-07-04T11:54:21.257203Z",
     "shell.execute_reply": "2024-07-04T11:54:21.255904Z"
    },
    "papermill": {
     "duration": 1.803932,
     "end_time": "2024-07-04T11:54:21.259585",
     "exception": false,
     "start_time": "2024-07-04T11:54:19.455653",
     "status": "completed"
    },
    "tags": []
   },
   "outputs": [
    {
     "name": "stdout",
     "output_type": "stream",
     "text": [
      "Best Hyperparameters: {'max_depth': None, 'min_samples_leaf': 1, 'min_samples_split': 2, 'n_estimators': 200}\n"
     ]
    },
    {
     "data": {
      "text/html": [
       "<style>#sk-container-id-6 {color: black;background-color: white;}#sk-container-id-6 pre{padding: 0;}#sk-container-id-6 div.sk-toggleable {background-color: white;}#sk-container-id-6 label.sk-toggleable__label {cursor: pointer;display: block;width: 100%;margin-bottom: 0;padding: 0.3em;box-sizing: border-box;text-align: center;}#sk-container-id-6 label.sk-toggleable__label-arrow:before {content: \"▸\";float: left;margin-right: 0.25em;color: #696969;}#sk-container-id-6 label.sk-toggleable__label-arrow:hover:before {color: black;}#sk-container-id-6 div.sk-estimator:hover label.sk-toggleable__label-arrow:before {color: black;}#sk-container-id-6 div.sk-toggleable__content {max-height: 0;max-width: 0;overflow: hidden;text-align: left;background-color: #f0f8ff;}#sk-container-id-6 div.sk-toggleable__content pre {margin: 0.2em;color: black;border-radius: 0.25em;background-color: #f0f8ff;}#sk-container-id-6 input.sk-toggleable__control:checked~div.sk-toggleable__content {max-height: 200px;max-width: 100%;overflow: auto;}#sk-container-id-6 input.sk-toggleable__control:checked~label.sk-toggleable__label-arrow:before {content: \"▾\";}#sk-container-id-6 div.sk-estimator input.sk-toggleable__control:checked~label.sk-toggleable__label {background-color: #d4ebff;}#sk-container-id-6 div.sk-label input.sk-toggleable__control:checked~label.sk-toggleable__label {background-color: #d4ebff;}#sk-container-id-6 input.sk-hidden--visually {border: 0;clip: rect(1px 1px 1px 1px);clip: rect(1px, 1px, 1px, 1px);height: 1px;margin: -1px;overflow: hidden;padding: 0;position: absolute;width: 1px;}#sk-container-id-6 div.sk-estimator {font-family: monospace;background-color: #f0f8ff;border: 1px dotted black;border-radius: 0.25em;box-sizing: border-box;margin-bottom: 0.5em;}#sk-container-id-6 div.sk-estimator:hover {background-color: #d4ebff;}#sk-container-id-6 div.sk-parallel-item::after {content: \"\";width: 100%;border-bottom: 1px solid gray;flex-grow: 1;}#sk-container-id-6 div.sk-label:hover label.sk-toggleable__label {background-color: #d4ebff;}#sk-container-id-6 div.sk-serial::before {content: \"\";position: absolute;border-left: 1px solid gray;box-sizing: border-box;top: 0;bottom: 0;left: 50%;z-index: 0;}#sk-container-id-6 div.sk-serial {display: flex;flex-direction: column;align-items: center;background-color: white;padding-right: 0.2em;padding-left: 0.2em;position: relative;}#sk-container-id-6 div.sk-item {position: relative;z-index: 1;}#sk-container-id-6 div.sk-parallel {display: flex;align-items: stretch;justify-content: center;background-color: white;position: relative;}#sk-container-id-6 div.sk-item::before, #sk-container-id-6 div.sk-parallel-item::before {content: \"\";position: absolute;border-left: 1px solid gray;box-sizing: border-box;top: 0;bottom: 0;left: 50%;z-index: -1;}#sk-container-id-6 div.sk-parallel-item {display: flex;flex-direction: column;z-index: 1;position: relative;background-color: white;}#sk-container-id-6 div.sk-parallel-item:first-child::after {align-self: flex-end;width: 50%;}#sk-container-id-6 div.sk-parallel-item:last-child::after {align-self: flex-start;width: 50%;}#sk-container-id-6 div.sk-parallel-item:only-child::after {width: 0;}#sk-container-id-6 div.sk-dashed-wrapped {border: 1px dashed gray;margin: 0 0.4em 0.5em 0.4em;box-sizing: border-box;padding-bottom: 0.4em;background-color: white;}#sk-container-id-6 div.sk-label label {font-family: monospace;font-weight: bold;display: inline-block;line-height: 1.2em;}#sk-container-id-6 div.sk-label-container {text-align: center;}#sk-container-id-6 div.sk-container {/* jupyter's `normalize.less` sets `[hidden] { display: none; }` but bootstrap.min.css set `[hidden] { display: none !important; }` so we also need the `!important` here to be able to override the default hidden behavior on the sphinx rendered scikit-learn.org. See: https://github.com/scikit-learn/scikit-learn/issues/21755 */display: inline-block !important;position: relative;}#sk-container-id-6 div.sk-text-repr-fallback {display: none;}</style><div id=\"sk-container-id-6\" class=\"sk-top-container\"><div class=\"sk-text-repr-fallback\"><pre>RandomForestRegressor(n_estimators=200)</pre><b>In a Jupyter environment, please rerun this cell to show the HTML representation or trust the notebook. <br />On GitHub, the HTML representation is unable to render, please try loading this page with nbviewer.org.</b></div><div class=\"sk-container\" hidden><div class=\"sk-item\"><div class=\"sk-estimator sk-toggleable\"><input class=\"sk-toggleable__control sk-hidden--visually\" id=\"sk-estimator-id-10\" type=\"checkbox\" checked><label for=\"sk-estimator-id-10\" class=\"sk-toggleable__label sk-toggleable__label-arrow\">RandomForestRegressor</label><div class=\"sk-toggleable__content\"><pre>RandomForestRegressor(n_estimators=200)</pre></div></div></div></div></div>"
      ],
      "text/plain": [
       "RandomForestRegressor(n_estimators=200)"
      ]
     },
     "execution_count": 46,
     "metadata": {},
     "output_type": "execute_result"
    }
   ],
   "source": [
    "# Get the best hyperparameters\n",
    "best_params = grid_search.best_params_\n",
    "print(\"Best Hyperparameters:\", best_params)\n",
    "\n",
    "# Train the Random Forest model with the best hyperparameters\n",
    "best_rf_regressor = RandomForestRegressor(**best_params)\n",
    "best_rf_regressor.fit(X_train, y_train)\n",
    "\n"
   ]
  },
  {
   "cell_type": "code",
   "execution_count": 47,
   "id": "45ca6e02",
   "metadata": {
    "execution": {
     "iopub.execute_input": "2024-07-04T11:54:21.304695Z",
     "iopub.status.busy": "2024-07-04T11:54:21.304304Z",
     "iopub.status.idle": "2024-07-04T11:54:21.520648Z",
     "shell.execute_reply": "2024-07-04T11:54:21.519293Z"
    },
    "papermill": {
     "duration": 0.241797,
     "end_time": "2024-07-04T11:54:21.523464",
     "exception": false,
     "start_time": "2024-07-04T11:54:21.281667",
     "status": "completed"
    },
    "tags": []
   },
   "outputs": [
    {
     "name": "stdout",
     "output_type": "stream",
     "text": [
      "Training MSE: 3.9434903132099044e-06\n",
      "Testing MSE: 0.00011078642980112865\n",
      "Training R2 Score: 0.999466794464421\n",
      "Testing R2 Score: 0.9863291476091078\n"
     ]
    }
   ],
   "source": [
    "# Make predictions\n",
    "y_pred_train = best_rf_regressor.predict(X_train)\n",
    "y_pred_test = best_rf_regressor.predict(X_test)\n",
    "\n",
    "# Evaluate the model\n",
    "train_mse = mean_squared_error(y_train, y_pred_train)\n",
    "test_mse = mean_squared_error(y_test, y_pred_test)\n",
    "train_r2 = r2_score(y_train, y_pred_train)\n",
    "test_r2 = r2_score(y_test, y_pred_test)\n",
    "\n",
    "print(f\"Training MSE: {train_mse}\")\n",
    "print(f\"Testing MSE: {test_mse}\")\n",
    "print(f\"Training R2 Score: {train_r2}\")\n",
    "print(f\"Testing R2 Score: {test_r2}\")"
   ]
  },
  {
   "cell_type": "markdown",
   "id": "c438a622",
   "metadata": {
    "papermill": {
     "duration": 0.021961,
     "end_time": "2024-07-04T11:54:21.566948",
     "exception": false,
     "start_time": "2024-07-04T11:54:21.544987",
     "status": "completed"
    },
    "tags": []
   },
   "source": [
    "<div style=\"background-color: #ff0000; padding: 20px; border-radius: 10px;\">\n",
    "    <h1 style=\"text-align: left; font-size: 25px;\"> XGBRegressor </h1>\n",
    "</div>"
   ]
  },
  {
   "cell_type": "code",
   "execution_count": 48,
   "id": "74f9bbe4",
   "metadata": {
    "execution": {
     "iopub.execute_input": "2024-07-04T11:54:21.614267Z",
     "iopub.status.busy": "2024-07-04T11:54:21.613826Z",
     "iopub.status.idle": "2024-07-04T11:54:32.066805Z",
     "shell.execute_reply": "2024-07-04T11:54:32.065607Z"
    },
    "papermill": {
     "duration": 10.479311,
     "end_time": "2024-07-04T11:54:32.069357",
     "exception": false,
     "start_time": "2024-07-04T11:54:21.590046",
     "status": "completed"
    },
    "tags": []
   },
   "outputs": [
    {
     "name": "stdout",
     "output_type": "stream",
     "text": [
      "Fitting 5 folds for each of 27 candidates, totalling 135 fits\n"
     ]
    },
    {
     "data": {
      "text/html": [
       "<style>#sk-container-id-7 {color: black;background-color: white;}#sk-container-id-7 pre{padding: 0;}#sk-container-id-7 div.sk-toggleable {background-color: white;}#sk-container-id-7 label.sk-toggleable__label {cursor: pointer;display: block;width: 100%;margin-bottom: 0;padding: 0.3em;box-sizing: border-box;text-align: center;}#sk-container-id-7 label.sk-toggleable__label-arrow:before {content: \"▸\";float: left;margin-right: 0.25em;color: #696969;}#sk-container-id-7 label.sk-toggleable__label-arrow:hover:before {color: black;}#sk-container-id-7 div.sk-estimator:hover label.sk-toggleable__label-arrow:before {color: black;}#sk-container-id-7 div.sk-toggleable__content {max-height: 0;max-width: 0;overflow: hidden;text-align: left;background-color: #f0f8ff;}#sk-container-id-7 div.sk-toggleable__content pre {margin: 0.2em;color: black;border-radius: 0.25em;background-color: #f0f8ff;}#sk-container-id-7 input.sk-toggleable__control:checked~div.sk-toggleable__content {max-height: 200px;max-width: 100%;overflow: auto;}#sk-container-id-7 input.sk-toggleable__control:checked~label.sk-toggleable__label-arrow:before {content: \"▾\";}#sk-container-id-7 div.sk-estimator input.sk-toggleable__control:checked~label.sk-toggleable__label {background-color: #d4ebff;}#sk-container-id-7 div.sk-label input.sk-toggleable__control:checked~label.sk-toggleable__label {background-color: #d4ebff;}#sk-container-id-7 input.sk-hidden--visually {border: 0;clip: rect(1px 1px 1px 1px);clip: rect(1px, 1px, 1px, 1px);height: 1px;margin: -1px;overflow: hidden;padding: 0;position: absolute;width: 1px;}#sk-container-id-7 div.sk-estimator {font-family: monospace;background-color: #f0f8ff;border: 1px dotted black;border-radius: 0.25em;box-sizing: border-box;margin-bottom: 0.5em;}#sk-container-id-7 div.sk-estimator:hover {background-color: #d4ebff;}#sk-container-id-7 div.sk-parallel-item::after {content: \"\";width: 100%;border-bottom: 1px solid gray;flex-grow: 1;}#sk-container-id-7 div.sk-label:hover label.sk-toggleable__label {background-color: #d4ebff;}#sk-container-id-7 div.sk-serial::before {content: \"\";position: absolute;border-left: 1px solid gray;box-sizing: border-box;top: 0;bottom: 0;left: 50%;z-index: 0;}#sk-container-id-7 div.sk-serial {display: flex;flex-direction: column;align-items: center;background-color: white;padding-right: 0.2em;padding-left: 0.2em;position: relative;}#sk-container-id-7 div.sk-item {position: relative;z-index: 1;}#sk-container-id-7 div.sk-parallel {display: flex;align-items: stretch;justify-content: center;background-color: white;position: relative;}#sk-container-id-7 div.sk-item::before, #sk-container-id-7 div.sk-parallel-item::before {content: \"\";position: absolute;border-left: 1px solid gray;box-sizing: border-box;top: 0;bottom: 0;left: 50%;z-index: -1;}#sk-container-id-7 div.sk-parallel-item {display: flex;flex-direction: column;z-index: 1;position: relative;background-color: white;}#sk-container-id-7 div.sk-parallel-item:first-child::after {align-self: flex-end;width: 50%;}#sk-container-id-7 div.sk-parallel-item:last-child::after {align-self: flex-start;width: 50%;}#sk-container-id-7 div.sk-parallel-item:only-child::after {width: 0;}#sk-container-id-7 div.sk-dashed-wrapped {border: 1px dashed gray;margin: 0 0.4em 0.5em 0.4em;box-sizing: border-box;padding-bottom: 0.4em;background-color: white;}#sk-container-id-7 div.sk-label label {font-family: monospace;font-weight: bold;display: inline-block;line-height: 1.2em;}#sk-container-id-7 div.sk-label-container {text-align: center;}#sk-container-id-7 div.sk-container {/* jupyter's `normalize.less` sets `[hidden] { display: none; }` but bootstrap.min.css set `[hidden] { display: none !important; }` so we also need the `!important` here to be able to override the default hidden behavior on the sphinx rendered scikit-learn.org. See: https://github.com/scikit-learn/scikit-learn/issues/21755 */display: inline-block !important;position: relative;}#sk-container-id-7 div.sk-text-repr-fallback {display: none;}</style><div id=\"sk-container-id-7\" class=\"sk-top-container\"><div class=\"sk-text-repr-fallback\"><pre>GridSearchCV(cv=5,\n",
       "             estimator=XGBRegressor(base_score=None, booster=None,\n",
       "                                    callbacks=None, colsample_bylevel=None,\n",
       "                                    colsample_bynode=None,\n",
       "                                    colsample_bytree=None, device=None,\n",
       "                                    early_stopping_rounds=None,\n",
       "                                    enable_categorical=False, eval_metric=None,\n",
       "                                    feature_types=None, gamma=None,\n",
       "                                    grow_policy=None, importance_type=None,\n",
       "                                    interaction_constraints=None,\n",
       "                                    learning_rate=None, m...\n",
       "                                    max_cat_to_onehot=None, max_delta_step=None,\n",
       "                                    max_depth=None, max_leaves=None,\n",
       "                                    min_child_weight=None, missing=nan,\n",
       "                                    monotone_constraints=None,\n",
       "                                    multi_strategy=None, n_estimators=None,\n",
       "                                    n_jobs=None, num_parallel_tree=None,\n",
       "                                    random_state=42, ...),\n",
       "             n_jobs=-1,\n",
       "             param_grid={&#x27;learning_rate&#x27;: [0.1, 0.01, 0.001],\n",
       "                         &#x27;max_depth&#x27;: [3, 5, 7],\n",
       "                         &#x27;n_estimators&#x27;: [100, 200, 300]},\n",
       "             scoring=&#x27;neg_mean_squared_error&#x27;, verbose=1)</pre><b>In a Jupyter environment, please rerun this cell to show the HTML representation or trust the notebook. <br />On GitHub, the HTML representation is unable to render, please try loading this page with nbviewer.org.</b></div><div class=\"sk-container\" hidden><div class=\"sk-item sk-dashed-wrapped\"><div class=\"sk-label-container\"><div class=\"sk-label sk-toggleable\"><input class=\"sk-toggleable__control sk-hidden--visually\" id=\"sk-estimator-id-11\" type=\"checkbox\" ><label for=\"sk-estimator-id-11\" class=\"sk-toggleable__label sk-toggleable__label-arrow\">GridSearchCV</label><div class=\"sk-toggleable__content\"><pre>GridSearchCV(cv=5,\n",
       "             estimator=XGBRegressor(base_score=None, booster=None,\n",
       "                                    callbacks=None, colsample_bylevel=None,\n",
       "                                    colsample_bynode=None,\n",
       "                                    colsample_bytree=None, device=None,\n",
       "                                    early_stopping_rounds=None,\n",
       "                                    enable_categorical=False, eval_metric=None,\n",
       "                                    feature_types=None, gamma=None,\n",
       "                                    grow_policy=None, importance_type=None,\n",
       "                                    interaction_constraints=None,\n",
       "                                    learning_rate=None, m...\n",
       "                                    max_cat_to_onehot=None, max_delta_step=None,\n",
       "                                    max_depth=None, max_leaves=None,\n",
       "                                    min_child_weight=None, missing=nan,\n",
       "                                    monotone_constraints=None,\n",
       "                                    multi_strategy=None, n_estimators=None,\n",
       "                                    n_jobs=None, num_parallel_tree=None,\n",
       "                                    random_state=42, ...),\n",
       "             n_jobs=-1,\n",
       "             param_grid={&#x27;learning_rate&#x27;: [0.1, 0.01, 0.001],\n",
       "                         &#x27;max_depth&#x27;: [3, 5, 7],\n",
       "                         &#x27;n_estimators&#x27;: [100, 200, 300]},\n",
       "             scoring=&#x27;neg_mean_squared_error&#x27;, verbose=1)</pre></div></div></div><div class=\"sk-parallel\"><div class=\"sk-parallel-item\"><div class=\"sk-item\"><div class=\"sk-label-container\"><div class=\"sk-label sk-toggleable\"><input class=\"sk-toggleable__control sk-hidden--visually\" id=\"sk-estimator-id-12\" type=\"checkbox\" ><label for=\"sk-estimator-id-12\" class=\"sk-toggleable__label sk-toggleable__label-arrow\">estimator: XGBRegressor</label><div class=\"sk-toggleable__content\"><pre>XGBRegressor(base_score=None, booster=None, callbacks=None,\n",
       "             colsample_bylevel=None, colsample_bynode=None,\n",
       "             colsample_bytree=None, device=None, early_stopping_rounds=None,\n",
       "             enable_categorical=False, eval_metric=None, feature_types=None,\n",
       "             gamma=None, grow_policy=None, importance_type=None,\n",
       "             interaction_constraints=None, learning_rate=None, max_bin=None,\n",
       "             max_cat_threshold=None, max_cat_to_onehot=None,\n",
       "             max_delta_step=None, max_depth=None, max_leaves=None,\n",
       "             min_child_weight=None, missing=nan, monotone_constraints=None,\n",
       "             multi_strategy=None, n_estimators=None, n_jobs=None,\n",
       "             num_parallel_tree=None, random_state=42, ...)</pre></div></div></div><div class=\"sk-serial\"><div class=\"sk-item\"><div class=\"sk-estimator sk-toggleable\"><input class=\"sk-toggleable__control sk-hidden--visually\" id=\"sk-estimator-id-13\" type=\"checkbox\" ><label for=\"sk-estimator-id-13\" class=\"sk-toggleable__label sk-toggleable__label-arrow\">XGBRegressor</label><div class=\"sk-toggleable__content\"><pre>XGBRegressor(base_score=None, booster=None, callbacks=None,\n",
       "             colsample_bylevel=None, colsample_bynode=None,\n",
       "             colsample_bytree=None, device=None, early_stopping_rounds=None,\n",
       "             enable_categorical=False, eval_metric=None, feature_types=None,\n",
       "             gamma=None, grow_policy=None, importance_type=None,\n",
       "             interaction_constraints=None, learning_rate=None, max_bin=None,\n",
       "             max_cat_threshold=None, max_cat_to_onehot=None,\n",
       "             max_delta_step=None, max_depth=None, max_leaves=None,\n",
       "             min_child_weight=None, missing=nan, monotone_constraints=None,\n",
       "             multi_strategy=None, n_estimators=None, n_jobs=None,\n",
       "             num_parallel_tree=None, random_state=42, ...)</pre></div></div></div></div></div></div></div></div></div></div>"
      ],
      "text/plain": [
       "GridSearchCV(cv=5,\n",
       "             estimator=XGBRegressor(base_score=None, booster=None,\n",
       "                                    callbacks=None, colsample_bylevel=None,\n",
       "                                    colsample_bynode=None,\n",
       "                                    colsample_bytree=None, device=None,\n",
       "                                    early_stopping_rounds=None,\n",
       "                                    enable_categorical=False, eval_metric=None,\n",
       "                                    feature_types=None, gamma=None,\n",
       "                                    grow_policy=None, importance_type=None,\n",
       "                                    interaction_constraints=None,\n",
       "                                    learning_rate=None, m...\n",
       "                                    max_cat_to_onehot=None, max_delta_step=None,\n",
       "                                    max_depth=None, max_leaves=None,\n",
       "                                    min_child_weight=None, missing=nan,\n",
       "                                    monotone_constraints=None,\n",
       "                                    multi_strategy=None, n_estimators=None,\n",
       "                                    n_jobs=None, num_parallel_tree=None,\n",
       "                                    random_state=42, ...),\n",
       "             n_jobs=-1,\n",
       "             param_grid={'learning_rate': [0.1, 0.01, 0.001],\n",
       "                         'max_depth': [3, 5, 7],\n",
       "                         'n_estimators': [100, 200, 300]},\n",
       "             scoring='neg_mean_squared_error', verbose=1)"
      ]
     },
     "execution_count": 48,
     "metadata": {},
     "output_type": "execute_result"
    }
   ],
   "source": [
    "\n",
    "from xgboost import XGBRegressor\n",
    "\n",
    "# Define the hyperparameters grid\n",
    "param_grid = {\n",
    "    'n_estimators': [100, 200, 300],\n",
    "    'max_depth': [3, 5, 7],\n",
    "    'learning_rate': [0.1, 0.01, 0.001]\n",
    "}\n",
    "\n",
    "# Initialize the XGBoost model\n",
    "xgb_regressor = XGBRegressor(random_state=42)\n",
    "\n",
    "# Initialize GridSearchCV with cross-validation\n",
    "grid_search = GridSearchCV(estimator=xgb_regressor, param_grid=param_grid, cv=5, scoring='neg_mean_squared_error', verbose=1, n_jobs=-1)\n",
    "\n",
    "# Fit the model with hyperparameter tuning\n",
    "grid_search.fit(X_train, y_train)\n",
    "\n"
   ]
  },
  {
   "cell_type": "code",
   "execution_count": 49,
   "id": "e324c4b0",
   "metadata": {
    "execution": {
     "iopub.execute_input": "2024-07-04T11:54:32.115275Z",
     "iopub.status.busy": "2024-07-04T11:54:32.114855Z",
     "iopub.status.idle": "2024-07-04T11:54:32.258023Z",
     "shell.execute_reply": "2024-07-04T11:54:32.256987Z"
    },
    "papermill": {
     "duration": 0.168551,
     "end_time": "2024-07-04T11:54:32.260277",
     "exception": false,
     "start_time": "2024-07-04T11:54:32.091726",
     "status": "completed"
    },
    "tags": []
   },
   "outputs": [
    {
     "name": "stdout",
     "output_type": "stream",
     "text": [
      "Best Hyperparameters: {'learning_rate': 0.1, 'max_depth': 3, 'n_estimators': 300}\n"
     ]
    },
    {
     "data": {
      "text/html": [
       "<style>#sk-container-id-8 {color: black;background-color: white;}#sk-container-id-8 pre{padding: 0;}#sk-container-id-8 div.sk-toggleable {background-color: white;}#sk-container-id-8 label.sk-toggleable__label {cursor: pointer;display: block;width: 100%;margin-bottom: 0;padding: 0.3em;box-sizing: border-box;text-align: center;}#sk-container-id-8 label.sk-toggleable__label-arrow:before {content: \"▸\";float: left;margin-right: 0.25em;color: #696969;}#sk-container-id-8 label.sk-toggleable__label-arrow:hover:before {color: black;}#sk-container-id-8 div.sk-estimator:hover label.sk-toggleable__label-arrow:before {color: black;}#sk-container-id-8 div.sk-toggleable__content {max-height: 0;max-width: 0;overflow: hidden;text-align: left;background-color: #f0f8ff;}#sk-container-id-8 div.sk-toggleable__content pre {margin: 0.2em;color: black;border-radius: 0.25em;background-color: #f0f8ff;}#sk-container-id-8 input.sk-toggleable__control:checked~div.sk-toggleable__content {max-height: 200px;max-width: 100%;overflow: auto;}#sk-container-id-8 input.sk-toggleable__control:checked~label.sk-toggleable__label-arrow:before {content: \"▾\";}#sk-container-id-8 div.sk-estimator input.sk-toggleable__control:checked~label.sk-toggleable__label {background-color: #d4ebff;}#sk-container-id-8 div.sk-label input.sk-toggleable__control:checked~label.sk-toggleable__label {background-color: #d4ebff;}#sk-container-id-8 input.sk-hidden--visually {border: 0;clip: rect(1px 1px 1px 1px);clip: rect(1px, 1px, 1px, 1px);height: 1px;margin: -1px;overflow: hidden;padding: 0;position: absolute;width: 1px;}#sk-container-id-8 div.sk-estimator {font-family: monospace;background-color: #f0f8ff;border: 1px dotted black;border-radius: 0.25em;box-sizing: border-box;margin-bottom: 0.5em;}#sk-container-id-8 div.sk-estimator:hover {background-color: #d4ebff;}#sk-container-id-8 div.sk-parallel-item::after {content: \"\";width: 100%;border-bottom: 1px solid gray;flex-grow: 1;}#sk-container-id-8 div.sk-label:hover label.sk-toggleable__label {background-color: #d4ebff;}#sk-container-id-8 div.sk-serial::before {content: \"\";position: absolute;border-left: 1px solid gray;box-sizing: border-box;top: 0;bottom: 0;left: 50%;z-index: 0;}#sk-container-id-8 div.sk-serial {display: flex;flex-direction: column;align-items: center;background-color: white;padding-right: 0.2em;padding-left: 0.2em;position: relative;}#sk-container-id-8 div.sk-item {position: relative;z-index: 1;}#sk-container-id-8 div.sk-parallel {display: flex;align-items: stretch;justify-content: center;background-color: white;position: relative;}#sk-container-id-8 div.sk-item::before, #sk-container-id-8 div.sk-parallel-item::before {content: \"\";position: absolute;border-left: 1px solid gray;box-sizing: border-box;top: 0;bottom: 0;left: 50%;z-index: -1;}#sk-container-id-8 div.sk-parallel-item {display: flex;flex-direction: column;z-index: 1;position: relative;background-color: white;}#sk-container-id-8 div.sk-parallel-item:first-child::after {align-self: flex-end;width: 50%;}#sk-container-id-8 div.sk-parallel-item:last-child::after {align-self: flex-start;width: 50%;}#sk-container-id-8 div.sk-parallel-item:only-child::after {width: 0;}#sk-container-id-8 div.sk-dashed-wrapped {border: 1px dashed gray;margin: 0 0.4em 0.5em 0.4em;box-sizing: border-box;padding-bottom: 0.4em;background-color: white;}#sk-container-id-8 div.sk-label label {font-family: monospace;font-weight: bold;display: inline-block;line-height: 1.2em;}#sk-container-id-8 div.sk-label-container {text-align: center;}#sk-container-id-8 div.sk-container {/* jupyter's `normalize.less` sets `[hidden] { display: none; }` but bootstrap.min.css set `[hidden] { display: none !important; }` so we also need the `!important` here to be able to override the default hidden behavior on the sphinx rendered scikit-learn.org. See: https://github.com/scikit-learn/scikit-learn/issues/21755 */display: inline-block !important;position: relative;}#sk-container-id-8 div.sk-text-repr-fallback {display: none;}</style><div id=\"sk-container-id-8\" class=\"sk-top-container\"><div class=\"sk-text-repr-fallback\"><pre>XGBRegressor(base_score=None, booster=None, callbacks=None,\n",
       "             colsample_bylevel=None, colsample_bynode=None,\n",
       "             colsample_bytree=None, device=None, early_stopping_rounds=None,\n",
       "             enable_categorical=False, eval_metric=None, feature_types=None,\n",
       "             gamma=None, grow_policy=None, importance_type=None,\n",
       "             interaction_constraints=None, learning_rate=0.1, max_bin=None,\n",
       "             max_cat_threshold=None, max_cat_to_onehot=None,\n",
       "             max_delta_step=None, max_depth=3, max_leaves=None,\n",
       "             min_child_weight=None, missing=nan, monotone_constraints=None,\n",
       "             multi_strategy=None, n_estimators=300, n_jobs=None,\n",
       "             num_parallel_tree=None, random_state=42, ...)</pre><b>In a Jupyter environment, please rerun this cell to show the HTML representation or trust the notebook. <br />On GitHub, the HTML representation is unable to render, please try loading this page with nbviewer.org.</b></div><div class=\"sk-container\" hidden><div class=\"sk-item\"><div class=\"sk-estimator sk-toggleable\"><input class=\"sk-toggleable__control sk-hidden--visually\" id=\"sk-estimator-id-14\" type=\"checkbox\" checked><label for=\"sk-estimator-id-14\" class=\"sk-toggleable__label sk-toggleable__label-arrow\">XGBRegressor</label><div class=\"sk-toggleable__content\"><pre>XGBRegressor(base_score=None, booster=None, callbacks=None,\n",
       "             colsample_bylevel=None, colsample_bynode=None,\n",
       "             colsample_bytree=None, device=None, early_stopping_rounds=None,\n",
       "             enable_categorical=False, eval_metric=None, feature_types=None,\n",
       "             gamma=None, grow_policy=None, importance_type=None,\n",
       "             interaction_constraints=None, learning_rate=0.1, max_bin=None,\n",
       "             max_cat_threshold=None, max_cat_to_onehot=None,\n",
       "             max_delta_step=None, max_depth=3, max_leaves=None,\n",
       "             min_child_weight=None, missing=nan, monotone_constraints=None,\n",
       "             multi_strategy=None, n_estimators=300, n_jobs=None,\n",
       "             num_parallel_tree=None, random_state=42, ...)</pre></div></div></div></div></div>"
      ],
      "text/plain": [
       "XGBRegressor(base_score=None, booster=None, callbacks=None,\n",
       "             colsample_bylevel=None, colsample_bynode=None,\n",
       "             colsample_bytree=None, device=None, early_stopping_rounds=None,\n",
       "             enable_categorical=False, eval_metric=None, feature_types=None,\n",
       "             gamma=None, grow_policy=None, importance_type=None,\n",
       "             interaction_constraints=None, learning_rate=0.1, max_bin=None,\n",
       "             max_cat_threshold=None, max_cat_to_onehot=None,\n",
       "             max_delta_step=None, max_depth=3, max_leaves=None,\n",
       "             min_child_weight=None, missing=nan, monotone_constraints=None,\n",
       "             multi_strategy=None, n_estimators=300, n_jobs=None,\n",
       "             num_parallel_tree=None, random_state=42, ...)"
      ]
     },
     "execution_count": 49,
     "metadata": {},
     "output_type": "execute_result"
    }
   ],
   "source": [
    "# Get the best hyperparameters\n",
    "best_params = grid_search.best_params_\n",
    "print(\"Best Hyperparameters:\", best_params)\n",
    "\n",
    "# Train the XGBoost model with the best hyperparameters\n",
    "best_xgb_regressor = XGBRegressor(**best_params, random_state=42)\n",
    "best_xgb_regressor.fit(X_train, y_train)\n",
    "\n"
   ]
  },
  {
   "cell_type": "code",
   "execution_count": 50,
   "id": "a0cdaad7",
   "metadata": {
    "execution": {
     "iopub.execute_input": "2024-07-04T11:54:32.307273Z",
     "iopub.status.busy": "2024-07-04T11:54:32.306286Z",
     "iopub.status.idle": "2024-07-04T11:54:32.330911Z",
     "shell.execute_reply": "2024-07-04T11:54:32.329823Z"
    },
    "papermill": {
     "duration": 0.050549,
     "end_time": "2024-07-04T11:54:32.333108",
     "exception": false,
     "start_time": "2024-07-04T11:54:32.282559",
     "status": "completed"
    },
    "tags": []
   },
   "outputs": [
    {
     "name": "stdout",
     "output_type": "stream",
     "text": [
      "Training MSE: 1.5302182899972972e-05\n",
      "Testing MSE: 5.313002685297778e-05\n",
      "Training R2 Score: 0.9979309677517461\n",
      "Testing R2 Score: 0.9934438472659961\n"
     ]
    }
   ],
   "source": [
    "# Make predictions\n",
    "y_pred_train = best_xgb_regressor.predict(X_train)\n",
    "y_pred_test = best_xgb_regressor.predict(X_test)\n",
    "\n",
    "# Evaluate the model\n",
    "train_mse = mean_squared_error(y_train, y_pred_train)\n",
    "test_mse = mean_squared_error(y_test, y_pred_test)\n",
    "train_r2 = r2_score(y_train, y_pred_train)\n",
    "test_r2 = r2_score(y_test, y_pred_test)\n",
    "\n",
    "print(f\"Training MSE: {train_mse}\")\n",
    "print(f\"Testing MSE: {test_mse}\")\n",
    "print(f\"Training R2 Score: {train_r2}\")\n",
    "print(f\"Testing R2 Score: {test_r2}\")\n"
   ]
  },
  {
   "cell_type": "markdown",
   "id": "cebf434f",
   "metadata": {
    "papermill": {
     "duration": 0.02348,
     "end_time": "2024-07-04T11:54:32.378947",
     "exception": false,
     "start_time": "2024-07-04T11:54:32.355467",
     "status": "completed"
    },
    "tags": []
   },
   "source": [
    "<p style=\"font-family:newtimeroman; font-size:200%; text-align:center; color:#00008B;\">Model comparision</p>\n"
   ]
  },
  {
   "cell_type": "code",
   "execution_count": 51,
   "id": "5dbf6469",
   "metadata": {
    "execution": {
     "iopub.execute_input": "2024-07-04T11:54:32.424750Z",
     "iopub.status.busy": "2024-07-04T11:54:32.424331Z",
     "iopub.status.idle": "2024-07-04T11:54:33.656625Z",
     "shell.execute_reply": "2024-07-04T11:54:33.655266Z"
    },
    "papermill": {
     "duration": 1.259903,
     "end_time": "2024-07-04T11:54:33.661004",
     "exception": false,
     "start_time": "2024-07-04T11:54:32.401101",
     "status": "completed"
    },
    "tags": []
   },
   "outputs": [
    {
     "data": {
      "text/html": [
       "<div>\n",
       "<style scoped>\n",
       "    .dataframe tbody tr th:only-of-type {\n",
       "        vertical-align: middle;\n",
       "    }\n",
       "\n",
       "    .dataframe tbody tr th {\n",
       "        vertical-align: top;\n",
       "    }\n",
       "\n",
       "    .dataframe thead th {\n",
       "        text-align: right;\n",
       "    }\n",
       "</style>\n",
       "<table border=\"1\" class=\"dataframe\">\n",
       "  <thead>\n",
       "    <tr style=\"text-align: right;\">\n",
       "      <th></th>\n",
       "      <th>Model</th>\n",
       "      <th>Training MSE</th>\n",
       "      <th>Testing MSE</th>\n",
       "      <th>Training R2 Score</th>\n",
       "      <th>Testing R2 Score</th>\n",
       "    </tr>\n",
       "  </thead>\n",
       "  <tbody>\n",
       "    <tr>\n",
       "      <th>0</th>\n",
       "      <td>Linear Regression</td>\n",
       "      <td>7.270060e-04</td>\n",
       "      <td>0.000736</td>\n",
       "      <td>0.901700</td>\n",
       "      <td>0.909202</td>\n",
       "    </tr>\n",
       "    <tr>\n",
       "      <th>1</th>\n",
       "      <td>Decision Tree</td>\n",
       "      <td>3.464987e-08</td>\n",
       "      <td>0.000111</td>\n",
       "      <td>0.999995</td>\n",
       "      <td>0.986322</td>\n",
       "    </tr>\n",
       "    <tr>\n",
       "      <th>2</th>\n",
       "      <td>Random Forest</td>\n",
       "      <td>5.471083e-06</td>\n",
       "      <td>0.000116</td>\n",
       "      <td>0.999260</td>\n",
       "      <td>0.985626</td>\n",
       "    </tr>\n",
       "    <tr>\n",
       "      <th>3</th>\n",
       "      <td>XGBoost</td>\n",
       "      <td>5.632027e-06</td>\n",
       "      <td>0.000085</td>\n",
       "      <td>0.999238</td>\n",
       "      <td>0.989550</td>\n",
       "    </tr>\n",
       "  </tbody>\n",
       "</table>\n",
       "</div>"
      ],
      "text/plain": [
       "               Model  Training MSE  Testing MSE  Training R2 Score  \\\n",
       "0  Linear Regression  7.270060e-04     0.000736           0.901700   \n",
       "1      Decision Tree  3.464987e-08     0.000111           0.999995   \n",
       "2      Random Forest  5.471083e-06     0.000116           0.999260   \n",
       "3            XGBoost  5.632027e-06     0.000085           0.999238   \n",
       "\n",
       "   Testing R2 Score  \n",
       "0          0.909202  \n",
       "1          0.986322  \n",
       "2          0.985626  \n",
       "3          0.989550  "
      ]
     },
     "execution_count": 51,
     "metadata": {},
     "output_type": "execute_result"
    }
   ],
   "source": [
    "\n",
    "models = {\n",
    "    'Linear Regression': LinearRegression(),\n",
    "    'Decision Tree': DecisionTreeRegressor(random_state=42),\n",
    "    'Random Forest': RandomForestRegressor(random_state=42),\n",
    "    'XGBoost': XGBRegressor(random_state=42)\n",
    "}\n",
    "\n",
    "# Initialize an empty list to store results\n",
    "results = []\n",
    "\n",
    "# Train and evaluate each model\n",
    "for name, model in models.items():\n",
    "    model.fit(X_train, y_train)\n",
    "    y_pred_train = model.predict(X_train)\n",
    "    y_pred_test = model.predict(X_test)\n",
    "    train_mse = mean_squared_error(y_train, y_pred_train)\n",
    "    test_mse = mean_squared_error(y_test, y_pred_test)\n",
    "    train_r2 = r2_score(y_train, y_pred_train)\n",
    "    test_r2 = r2_score(y_test, y_pred_test)\n",
    "    results.append({'Model': name,\n",
    "                    'Training MSE': train_mse,\n",
    "                    'Testing MSE': test_mse,\n",
    "                    'Training R2 Score': train_r2,\n",
    "                    'Testing R2 Score': test_r2})\n",
    "results_df = pd.DataFrame(results)\n",
    "results_df\n"
   ]
  },
  {
   "cell_type": "markdown",
   "id": "72d91952",
   "metadata": {
    "papermill": {
     "duration": 0.031911,
     "end_time": "2024-07-04T11:54:33.725526",
     "exception": false,
     "start_time": "2024-07-04T11:54:33.693615",
     "status": "completed"
    },
    "tags": []
   },
   "source": [
    "<p style=\"font-family:newtimeroman; font-size:200%; text-align:center; color:#00008B;\">Conclusion</p>\n"
   ]
  },
  {
   "cell_type": "markdown",
   "id": "39fbddfb",
   "metadata": {
    "papermill": {
     "duration": 0.023382,
     "end_time": "2024-07-04T11:54:33.774465",
     "exception": false,
     "start_time": "2024-07-04T11:54:33.751083",
     "status": "completed"
    },
    "tags": []
   },
   "source": [
    "<div style=\"background-color: #66bbf1; padding: 20px; border-radius: 10px;\">\n",
    "    <h1 style=\"text-align: left; font-size: 22px;\">All models perform well, Random Forest and XGBoost stand out as they maintain high accuracy on unseen data, making them preferred choices for deployment in scenarios requiring reliable predictions.</h1>\n",
    "</div>"
   ]
  },
  {
   "cell_type": "markdown",
   "id": "c7f091eb",
   "metadata": {
    "papermill": {
     "duration": 0.022179,
     "end_time": "2024-07-04T11:54:33.820461",
     "exception": false,
     "start_time": "2024-07-04T11:54:33.798282",
     "status": "completed"
    },
    "tags": []
   },
   "source": [
    "<div style=\"background-color: #66bbf1; padding: 20px; border-radius: 10px;\">\n",
    "    <h1 style=\"text-align: left; font-size: 22px;\">Thanks for exploring my notebook. Upvote if you like the work. Also, Give your feedback in comments.</h1>\n",
    "</div>"
   ]
  },
  {
   "cell_type": "code",
   "execution_count": null,
   "id": "07e9cf45",
   "metadata": {
    "papermill": {
     "duration": 0.022145,
     "end_time": "2024-07-04T11:54:33.865898",
     "exception": false,
     "start_time": "2024-07-04T11:54:33.843753",
     "status": "completed"
    },
    "tags": []
   },
   "outputs": [],
   "source": []
  }
 ],
 "metadata": {
  "kaggle": {
   "accelerator": "none",
   "dataSources": [
    {
     "datasetId": 4897047,
     "sourceId": 8252985,
     "sourceType": "datasetVersion"
    }
   ],
   "dockerImageVersionId": 30698,
   "isGpuEnabled": false,
   "isInternetEnabled": true,
   "language": "python",
   "sourceType": "notebook"
  },
  "kernelspec": {
   "display_name": "Python 3",
   "language": "python",
   "name": "python3"
  },
  "language_info": {
   "codemirror_mode": {
    "name": "ipython",
    "version": 3
   },
   "file_extension": ".py",
   "mimetype": "text/x-python",
   "name": "python",
   "nbconvert_exporter": "python",
   "pygments_lexer": "ipython3",
   "version": "3.10.13"
  },
  "papermill": {
   "default_parameters": {},
   "duration": 201.117749,
   "end_time": "2024-07-04T11:54:36.509534",
   "environment_variables": {},
   "exception": null,
   "input_path": "__notebook__.ipynb",
   "output_path": "__notebook__.ipynb",
   "parameters": {},
   "start_time": "2024-07-04T11:51:15.391785",
   "version": "2.5.0"
  }
 },
 "nbformat": 4,
 "nbformat_minor": 5
}
